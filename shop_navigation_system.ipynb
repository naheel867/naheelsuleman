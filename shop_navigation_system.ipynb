{
  "nbformat": 4,
  "nbformat_minor": 0,
  "metadata": {
    "colab": {
      "provenance": []
    },
    "kernelspec": {
      "name": "python3",
      "display_name": "Python 3"
    },
    "language_info": {
      "name": "python"
    }
  },
  "cells": [
    {
      "cell_type": "markdown",
      "source": [
        "#1. Graph Representation:"
      ],
      "metadata": {
        "id": "uioJtMUHfTMh"
      }
    },
    {
      "cell_type": "markdown",
      "source": [
        "##Define Graph Data Structure\n",
        "Create a data structure to serve as  graph's representation initially. For vertices and edges (pathways), can either utilize pre-existing data structures or develop own classes.\n"
      ],
      "metadata": {
        "id": "p7uFFsZp1Hz5"
      }
    },
    {
      "cell_type": "code",
      "source": [
        "class Shop:\n",
        "    def __init__(self, shop_number, shop_name, category, location, rating):\n",
        "        self.shop_number = shop_number\n",
        "        self.shop_name = shop_name\n",
        "        self.category = category\n",
        "        self.location = location\n",
        "        self.rating = rating\n",
        "\n",
        "class Edge:\n",
        "    def __init__(self, source, destination):\n",
        "        self.source = source\n",
        "        self.destination = destination\n"
      ],
      "metadata": {
        "id": "sYp1CD8v1CXu"
      },
      "execution_count": null,
      "outputs": []
    },
    {
      "cell_type": "markdown",
      "source": [
        "##Build the Graph\n",
        "Make the network and add stores as vertices and connections between shops as edges. The adjacency list of the network, where the keys are the shop vertices and the values are lists of nearby stores, may be represented using dictionaries."
      ],
      "metadata": {
        "id": "0MD56-0v1bN6"
      }
    },
    {
      "cell_type": "code",
      "source": [
        "class ShopNavigationSystem:\n",
        "    def __init__(self):\n",
        "        self.graph = {}\n",
        "\n",
        "    def add_shop(self, shop):\n",
        "        self.graph[shop] = []\n",
        "\n",
        "    def add_connection(self, shop1, shop2):\n",
        "        self.graph[shop1].append(shop2)\n",
        "        self.graph[shop2].append(shop1)\n",
        "\n",
        "    def display_adjacency_list(self):\n",
        "        for shop, neighbors in self.graph.items():\n",
        "            print(f'Shop {shop.shop_number} ({shop.shop_name}) is connected to:')\n",
        "            for neighbor in neighbors:\n",
        "                print(f'  Shop {neighbor.shop_number} ({neighbor.shop_name})')\n",
        "            print()\n",
        "\n",
        "# Create an instance of the ShopNavigationSystem\n",
        "navigation_system = ShopNavigationSystem()\n",
        "\n",
        "# Sample shop data\n",
        "shop1 = Shop(1, \"ABC Electronics\", \"Electronics\", \"Floor 1, Aisle 3\", 4)\n",
        "shop2 = Shop(2, \"Fashion Paradise\", \"Clothing\", \"Floor 2, Aisle 1\", 5)\n",
        "shop3 = Shop(3, \"XYZGadgets\", \"Electronics\", \"Floor 2, Aisle 3\", 5)\n",
        "\n",
        "# Add shops to the graph\n",
        "navigation_system.add_shop(shop1)\n",
        "navigation_system.add_shop(shop2)\n",
        "navigation_system.add_shop(shop3)\n",
        "\n",
        "# Add connections between shops (edges)\n",
        "navigation_system.add_connection(shop1, shop2)\n",
        "navigation_system.add_connection(shop2, shop3)\n",
        "\n",
        "# Display the adjacency list of the graph\n",
        "navigation_system.display_adjacency_list()\n"
      ],
      "metadata": {
        "colab": {
          "base_uri": "https://localhost:8080/"
        },
        "id": "MrezA1Ea1Y-k",
        "outputId": "9f0bcc90-fd31-4e8b-c4f3-28431d4f4933"
      },
      "execution_count": null,
      "outputs": [
        {
          "output_type": "stream",
          "name": "stdout",
          "text": [
            "Shop 1 (ABC Electronics) is connected to:\n",
            "  Shop 2 (Fashion Paradise)\n",
            "\n",
            "Shop 2 (Fashion Paradise) is connected to:\n",
            "  Shop 1 (ABC Electronics)\n",
            "  Shop 3 (XYZGadgets)\n",
            "\n",
            "Shop 3 (XYZGadgets) is connected to:\n",
            "  Shop 2 (Fashion Paradise)\n",
            "\n"
          ]
        }
      ]
    },
    {
      "cell_type": "markdown",
      "source": [
        "##Display the Adjacency List:\n",
        "Create a function to show the graph's adjacency list. The links between the stores are printed using the display_adjacency_list method in the aforementioned example.\n"
      ],
      "metadata": {
        "id": "qC4eH8Leo1G_"
      }
    },
    {
      "cell_type": "code",
      "source": [
        "class ShopNavigationSystem:\n",
        "    def __init__(self, num_shops):\n",
        "        self.num_shops = num_shops\n",
        "        self.adjacency_matrix = [[0] * num_shops for _ in range(num_shops)]\n",
        "\n",
        "    def add_connection(self, shop1, shop2):\n",
        "        self.adjacency_matrix[shop1.shop_number - 1][shop2.shop_number - 1] = 1\n",
        "        self.adjacency_matrix[shop2.shop_number - 1][shop1.shop_number - 1] = 1\n",
        "\n",
        "    def display_adjacency_matrix(self):\n",
        "        for row in self.adjacency_matrix:\n",
        "            print(\" \".join(map(str, row)))\n",
        "\n",
        "# Create an instance of the ShopNavigationSystem with the number of shops\n",
        "navigation_system = ShopNavigationSystem(3)\n",
        "\n",
        "# Add connections between shops (edges)\n",
        "navigation_system.add_connection(shop1, shop2)\n",
        "navigation_system.add_connection(shop2, shop3)\n",
        "\n",
        "# Display the adjacency matrix of the graph\n",
        "navigation_system.display_adjacency_matrix()\n"
      ],
      "metadata": {
        "colab": {
          "base_uri": "https://localhost:8080/"
        },
        "id": "l4vDFX4X21EL",
        "outputId": "06411698-591e-4ec6-8f3d-84c2e347286e"
      },
      "execution_count": null,
      "outputs": [
        {
          "output_type": "stream",
          "name": "stdout",
          "text": [
            "0 1 0\n",
            "1 0 1\n",
            "0 1 0\n"
          ]
        }
      ]
    },
    {
      "cell_type": "code",
      "source": [
        "class ShopNavigationSystem:\n",
        "\n",
        "    def __init__(self, size):\n",
        "        self.adjMatrix = []\n",
        "        for i in range(size):\n",
        "            self.adjMatrix.append([0] * size)\n",
        "        self.size = size\n",
        "\n",
        "    def add_connection(self, shop1, shop2):\n",
        "        if shop1 == shop2:\n",
        "            print(\"Same shop cannot have a connection\")\n",
        "            return\n",
        "        self.adjMatrix[shop1][shop2] = 1\n",
        "\n",
        "    def remove_connection(self, shop1, shop2):\n",
        "        if self.adjMatrix[shop1][shop2] == 0:\n",
        "            print(\"No connection from shop %d to shop %d\" % (shop1, shop2))\n",
        "            return\n",
        "        self.adjMatrix[shop1][shop2] = 0\n",
        "\n",
        "    def __len__(self):\n",
        "        return self.size\n",
        "\n",
        "    def display_adjacency_matrix(self):\n",
        "        for row in self.adjMatrix:\n",
        "            for val in row:\n",
        "                print('{:4}'.format(val), end=' ')\n",
        "            print()\n",
        "\n",
        "\n",
        "def main():\n",
        "    num_shops = 5  # Change the number of shops as per your requirement\n",
        "    navigation_system = ShopNavigationSystem(num_shops)\n",
        "\n",
        "    # Add connections between shops\n",
        "    navigation_system.add_connection(0, 1)\n",
        "    navigation_system.add_connection(0, 2)\n",
        "    navigation_system.add_connection(1, 2)\n",
        "    navigation_system.add_connection(2, 0)\n",
        "    navigation_system.add_connection(2, 3)\n",
        "\n",
        "    navigation_system.display_adjacency_matrix()\n",
        "\n",
        "\n",
        "if __name__ == '__main__':\n",
        "    main()\n"
      ],
      "metadata": {
        "colab": {
          "base_uri": "https://localhost:8080/"
        },
        "id": "YoVJqP_W3F7_",
        "outputId": "7d4ceb3d-8826-4599-fe0b-c592b5c7de50"
      },
      "execution_count": null,
      "outputs": [
        {
          "output_type": "stream",
          "name": "stdout",
          "text": [
            "   0    1    1    0    0 \n",
            "   0    0    1    0    0 \n",
            "   1    0    0    1    0 \n",
            "   0    0    0    0    0 \n",
            "   0    0    0    0    0 \n"
          ]
        }
      ]
    },
    {
      "cell_type": "code",
      "source": [
        "class DirectedGraph:\n",
        "\n",
        "    def __init__(self, adj_matrix):\n",
        "        self.adjMatrix = adj_matrix\n",
        "        self.size = len(adj_matrix)\n",
        "\n",
        "    def add_edge(self, v1, v2):\n",
        "        if v1 < 0 or v1 >= self.size or v2 < 0 or v2 >= self.size:\n",
        "            print(\"Invalid vertices\")\n",
        "            return\n",
        "        self.adjMatrix[v1][v2] = 1\n",
        "\n",
        "    def remove_edge(self, v1, v2):\n",
        "        if v1 < 0 or v1 >= self.size or v2 < 0 or v2 >= self.size:\n",
        "            print(\"Invalid vertices\")\n",
        "            return\n",
        "        self.adjMatrix[v1][v2] = 0\n",
        "\n",
        "    def display_graph(self):\n",
        "        for i in range(self.size):\n",
        "            for j in range(self.size):\n",
        "                if self.adjMatrix[i][j] == 1:\n",
        "                    print(f\"{i} -> {j}\")\n",
        "\n",
        "# Given adjacency matrix\n",
        "adjacency_matrix = [\n",
        "    [0, 1, 1, 0, 0],\n",
        "    [0, 0, 1, 0, 0],\n",
        "    [1, 0, 0, 1, 0],\n",
        "    [0, 0, 0, 0, 0],\n",
        "    [0, 0, 0, 0, 0]\n",
        "]\n",
        "\n",
        "# Create a DirectedGraph instance\n",
        "directed_graph = DirectedGraph(adjacency_matrix)\n",
        "\n",
        "# Display the directed graph\n",
        "directed_graph.display_graph()\n"
      ],
      "metadata": {
        "colab": {
          "base_uri": "https://localhost:8080/"
        },
        "id": "DlmEaeRl5cc5",
        "outputId": "cd61840d-4c35-4933-c85d-0c2c7be552de"
      },
      "execution_count": null,
      "outputs": [
        {
          "output_type": "stream",
          "name": "stdout",
          "text": [
            "0 -> 1\n",
            "0 -> 2\n",
            "1 -> 2\n",
            "2 -> 0\n",
            "2 -> 3\n"
          ]
        }
      ]
    },
    {
      "cell_type": "code",
      "source": [
        "!pip install networkx\n",
        "!pip install matplotlib\n"
      ],
      "metadata": {
        "colab": {
          "base_uri": "https://localhost:8080/"
        },
        "id": "xZ6WpHux52zD",
        "outputId": "2b34c5bd-21a3-4f6c-83ef-47d757c34f15"
      },
      "execution_count": null,
      "outputs": [
        {
          "output_type": "stream",
          "name": "stdout",
          "text": [
            "Requirement already satisfied: networkx in /usr/local/lib/python3.10/dist-packages (3.1)\n",
            "Requirement already satisfied: matplotlib in /usr/local/lib/python3.10/dist-packages (3.7.1)\n",
            "Requirement already satisfied: contourpy>=1.0.1 in /usr/local/lib/python3.10/dist-packages (from matplotlib) (1.1.1)\n",
            "Requirement already satisfied: cycler>=0.10 in /usr/local/lib/python3.10/dist-packages (from matplotlib) (0.12.0)\n",
            "Requirement already satisfied: fonttools>=4.22.0 in /usr/local/lib/python3.10/dist-packages (from matplotlib) (4.43.0)\n",
            "Requirement already satisfied: kiwisolver>=1.0.1 in /usr/local/lib/python3.10/dist-packages (from matplotlib) (1.4.5)\n",
            "Requirement already satisfied: numpy>=1.20 in /usr/local/lib/python3.10/dist-packages (from matplotlib) (1.23.5)\n",
            "Requirement already satisfied: packaging>=20.0 in /usr/local/lib/python3.10/dist-packages (from matplotlib) (23.1)\n",
            "Requirement already satisfied: pillow>=6.2.0 in /usr/local/lib/python3.10/dist-packages (from matplotlib) (9.4.0)\n",
            "Requirement already satisfied: pyparsing>=2.3.1 in /usr/local/lib/python3.10/dist-packages (from matplotlib) (3.1.1)\n",
            "Requirement already satisfied: python-dateutil>=2.7 in /usr/local/lib/python3.10/dist-packages (from matplotlib) (2.8.2)\n",
            "Requirement already satisfied: six>=1.5 in /usr/local/lib/python3.10/dist-packages (from python-dateutil>=2.7->matplotlib) (1.16.0)\n"
          ]
        }
      ]
    },
    {
      "cell_type": "code",
      "source": [
        "import networkx as nx\n",
        "import matplotlib.pyplot as plt\n",
        "\n",
        "# Create a directed graph\n",
        "G = nx.DiGraph()\n",
        "\n",
        "# Add edges to the graph based on the adjacency matrix\n",
        "adjacency_matrix = [\n",
        "    [0, 1, 1, 0, 0],\n",
        "    [0, 0, 1, 0, 0],\n",
        "    [1, 0, 0, 1, 0],\n",
        "    [0, 0, 0, 0, 0],\n",
        "    [0, 0, 0, 0, 0]\n",
        "]\n",
        "\n",
        "# Add edges to the graph based on the adjacency matrix\n",
        "for i in range(len(adjacency_matrix)):\n",
        "    for j in range(len(adjacency_matrix[i])):\n",
        "        if adjacency_matrix[i][j] == 1:\n",
        "            G.add_edge(i, j)\n",
        "\n",
        "# Draw the graph with curved edges for 0 to 2 and 2 to 0\n",
        "pos = nx.spring_layout(G, seed=42)  # Positioning of nodes\n",
        "nx.draw(\n",
        "    G,\n",
        "    pos,\n",
        "    with_labels=True,\n",
        "    node_size=500,\n",
        "    node_color=\"skyblue\",\n",
        "    font_size=10,\n",
        "    font_color=\"black\",\n",
        "    font_weight=\"bold\",\n",
        "    arrowsize=20,\n",
        ")\n",
        "\n",
        "# Draw straight edges\n",
        "nx.draw_networkx_edges(G, pos, edgelist=[(0, 1), (1, 2)], edge_color=\"gray\")\n",
        "\n",
        "# Draw curved edges for 0 to 2 and 2 to 0\n",
        "nx.draw_networkx_edges(\n",
        "    G,\n",
        "    pos,\n",
        "    edgelist=[(0, 2), (2, 0)],\n",
        "    connectionstyle=\"arc3, rad=0.3\",  # Adjust the curvature here\n",
        "    edge_color=\"gray\",\n",
        ")\n",
        "\n",
        "# Show the graph\n",
        "plt.axis(\"off\")\n",
        "plt.show()\n"
      ],
      "metadata": {
        "colab": {
          "base_uri": "https://localhost:8080/",
          "height": 516
        },
        "id": "NGJjp8AB8Eyu",
        "outputId": "e1e75790-335f-417f-deb4-9a6c4d37fdc1"
      },
      "execution_count": null,
      "outputs": [
        {
          "output_type": "display_data",
          "data": {
            "text/plain": [
              "<Figure size 640x480 with 1 Axes>"
            ],
            "image/png": "[encoded data removed]"
          },
          "metadata": {}
        }
      ]
    },
    {
      "cell_type": "markdown",
      "source": [
        "##2. Node Operations:"
      ],
      "metadata": {
        "id": "Vobjcj3PEyTs"
      }
    },
    {
      "cell_type": "markdown",
      "source": [
        "**Adding a Shop Node:**"
      ],
      "metadata": {
        "id": "5yp22_SOzJCV"
      }
    },
    {
      "cell_type": "code",
      "source": [
        "class ShopNavigationSystem:\n",
        "    def __init__(self, size):\n",
        "        self.graph = {}\n",
        "        self.shops = {}\n",
        "        self.size = size\n",
        "\n",
        "    def add_shop_node(self, shop_number, shop_name, category, location, rating):\n",
        "        if shop_number in self.graph:\n",
        "            print(f\"Shop with shop number {shop_number} already exists.\")\n",
        "        else:\n",
        "            # Add the shop as a node in the graph\n",
        "            self.graph[shop_number] = set()\n",
        "\n",
        "            # Store shop information\n",
        "            self.shops[shop_number] = {\n",
        "                'shop_name': shop_name,\n",
        "                'category': category,\n",
        "                'location': location,\n",
        "                'rating': rating\n",
        "            }\n",
        "\n",
        "    def display_shop_information(self, shop_number):\n",
        "        if shop_number in self.shops:\n",
        "            shop_info = self.shops[shop_number]\n",
        "            print(f\"Shop Number: {shop_number}\")\n",
        "            print(f\"Shop Name: {shop_info['shop_name']}\")\n",
        "            print(f\"Category: {shop_info['category']}\")\n",
        "            print(f\"Location: {shop_info['location']}\")\n",
        "            print(f\"Rating: {shop_info['rating']}\")\n",
        "        else:\n",
        "            print(f\"Shop with shop number {shop_number} does not exist.\")\n",
        "\n",
        "    # ... (other methods)\n",
        "\n",
        "# Example usage:\n",
        "def main():\n",
        "    navigation_system = ShopNavigationSystem(100)\n",
        "\n",
        "    # Add a new shop node\n",
        "    navigation_system.add_shop_node(1, \"Shop A\", \"Electronics\", \"Floor 1, Aisle 3\", 4)\n",
        "    navigation_system.add_shop_node(2, \"Shop B\", \"Clothing\", \"Floor 2, Aisle 1\", 5)\n",
        "\n",
        "    # Display shop information\n",
        "    navigation_system.display_shop_information(1)\n",
        "    navigation_system.display_shop_information(2)\n",
        "\n",
        "if __name__ == '__main__':\n",
        "    main()\n"
      ],
      "metadata": {
        "colab": {
          "base_uri": "https://localhost:8080/"
        },
        "id": "q6eieU7ssxyh",
        "outputId": "a311448d-b7cb-4301-cb9a-1d27bc9a628e"
      },
      "execution_count": null,
      "outputs": [
        {
          "output_type": "stream",
          "name": "stdout",
          "text": [
            "Shop Number: 1\n",
            "Shop Name: Shop A\n",
            "Category: Electronics\n",
            "Location: Floor 1, Aisle 3\n",
            "Rating: 4\n",
            "Shop Number: 2\n",
            "Shop Name: Shop B\n",
            "Category: Clothing\n",
            "Location: Floor 2, Aisle 1\n",
            "Rating: 5\n"
          ]
        }
      ]
    },
    {
      "cell_type": "markdown",
      "source": [
        "**Deleting a Shop Node:**"
      ],
      "metadata": {
        "id": "wf-ZizsOzXmi"
      }
    },
    {
      "cell_type": "code",
      "source": [
        "class ShopNavigationSystem:\n",
        "    def __init__(self, size):\n",
        "        self.graph = {}\n",
        "        self.shops = {}\n",
        "        self.size = size\n",
        "\n",
        "    def add_shop_node(self, shop_number, shop_name, category, location, rating):\n",
        "        if shop_number in self.graph:\n",
        "            print(f\"Shop with shop number {shop_number} already exists.\")\n",
        "        else:\n",
        "            # Add the shop as a node in the graph\n",
        "            self.graph[shop_number] = set()\n",
        "\n",
        "            # Store shop information\n",
        "            self.shops[shop_number] = {\n",
        "                'shop_name': shop_name,\n",
        "                'category': category,\n",
        "                'location': location,\n",
        "                'rating': rating\n",
        "            }\n",
        "\n",
        "    def display_shop_information(self, shop_number):\n",
        "        if shop_number in self.shops:\n",
        "            shop_info = self.shops[shop_number]\n",
        "            print(f\"Shop Number: {shop_number}\")\n",
        "            print(f\"Shop Name: {shop_info['shop_name']}\")\n",
        "            print(f\"Category: {shop_info['category']}\")\n",
        "            print(f\"Location: {shop_info['location']}\")\n",
        "            print(f\"Rating: {shop_info['rating']}\")\n",
        "        else:\n",
        "            print(f\"Shop with shop number {shop_number} does not exist.\")\n",
        "\n",
        "    def delete_shop_node(self, shop_number):\n",
        "        if shop_number in self.graph:\n",
        "            # Remove the shop node and its connections from the graph\n",
        "            del self.graph[shop_number]\n",
        "\n",
        "            # Remove the shop information\n",
        "            del self.shops[shop_number]\n",
        "\n",
        "            # Delete any connections to the shop from other shops\n",
        "            for shop in self.graph:\n",
        "                if shop_number in self.graph[shop]:\n",
        "                    self.graph[shop].remove(shop_number)\n",
        "        else:\n",
        "            print(f\"Shop with shop number {shop_number} does not exist.\")\n",
        "\n",
        "# Example usage:\n",
        "def main():\n",
        "    navigation_system = ShopNavigationSystem(100)\n",
        "\n",
        "    # Add a new shop node\n",
        "    navigation_system.add_shop_node(1, \"Shop A\", \"Electronics\", \"Floor 1, Aisle 3\", 4)\n",
        "    navigation_system.add_shop_node(2, \"Shop B\", \"Clothing\", \"Floor 2, Aisle 1\", 5)\n",
        "\n",
        "    # Delete an existing shop node\n",
        "    navigation_system.delete_shop_node(1)\n",
        "\n",
        "    # Attempt to delete a non-existing shop (with error handling)\n",
        "    navigation_system.delete_shop_node(3)\n",
        "\n",
        "if __name__ == '__main__':\n",
        "    main()\n"
      ],
      "metadata": {
        "colab": {
          "base_uri": "https://localhost:8080/"
        },
        "id": "wfxaDhZ4FbbT",
        "outputId": "aafc3331-a030-4cf6-fd49-40e786c097e4"
      },
      "execution_count": null,
      "outputs": [
        {
          "output_type": "stream",
          "name": "stdout",
          "text": [
            "Shop with shop number 3 does not exist.\n"
          ]
        }
      ]
    },
    {
      "cell_type": "markdown",
      "source": [
        "**Updating Shop Information and Check Errors and Exceptions:**"
      ],
      "metadata": {
        "id": "LWU-xorfzdpP"
      }
    },
    {
      "cell_type": "code",
      "source": [
        "class ShopNavigationSystem:\n",
        "    def __init__(self, size):\n",
        "        self.graph = {}\n",
        "        self.shops = {}\n",
        "        self.size = size\n",
        "\n",
        "    def add_shop_node(self, shop_number, shop_name, category, location, rating):\n",
        "        if shop_number in self.graph:\n",
        "            print(f\"Shop with shop number {shop_number} already exists.\")\n",
        "        else:\n",
        "            # Add the shop as a node in the graph\n",
        "            self.graph[shop_number] = set()\n",
        "\n",
        "            # Store shop information\n",
        "            self.shops[shop_number] = {\n",
        "                'shop_name': shop_name,\n",
        "                'category': category,\n",
        "                'location': location,\n",
        "                'rating': rating\n",
        "            }\n",
        "\n",
        "    def display_shop_information(self, shop_number):\n",
        "        if shop_number in self.shops:\n",
        "            shop_info = self.shops[shop_number]\n",
        "            print(f\"Shop Name: {shop_info['shop_name']}\")\n",
        "            print(f\"Category: {shop_info['category']}\")\n",
        "            print(f\"Location: {shop_info['location']}\")\n",
        "            print(f\"Rating: {shop_info['rating']}\")\n",
        "        else:\n",
        "            print(f\"Shop with shop number {shop_number} does not exist.\")\n",
        "\n",
        "    def update_shop_information(self, shop_number, shop_name=None, category=None, location=None, rating=None):\n",
        "        if shop_number in self.shops:\n",
        "            shop_info = self.shops[shop_number]\n",
        "            if shop_name is not None:\n",
        "                shop_info['shop_name'] = shop_name\n",
        "            if category is not None:\n",
        "                shop_info['category'] = category\n",
        "            if location is not None:\n",
        "                shop_info['location'] = location\n",
        "            if rating is not None:\n",
        "                shop_info['rating'] = rating\n",
        "        else:\n",
        "            print(f\"Shop with shop number {shop_number} does not exist.\")\n",
        "\n",
        "# Example usage:\n",
        "def main():\n",
        "    navigation_system = ShopNavigationSystem(100)  # Provide a size argument\n",
        "\n",
        "    # Add a new shop node\n",
        "    navigation_system.add_shop_node(1, \"Shop A\", \"Electronics\", \"Floor 1, Aisle 3\", 4)\n",
        "    navigation_system.add_shop_node(2, \"Shop B\", \"Clothing\", \"Floor 2, Aisle 1\", 5)\n",
        "\n",
        "    # Update shop information\n",
        "    navigation_system.update_shop_information(1, shop_name=\"Updated Shop A\", category=\"Updated Category\", rating=3)\n",
        "\n",
        "    # Display updated shop information\n",
        "    navigation_system.display_shop_information(1)\n",
        "\n",
        "if __name__ == '__main__':\n",
        "    main()\n"
      ],
      "metadata": {
        "colab": {
          "base_uri": "https://localhost:8080/"
        },
        "id": "PBWs5DEQFjMe",
        "outputId": "344cb54b-4ef7-46ed-9bb7-9463fba8ed9d"
      },
      "execution_count": 2,
      "outputs": [
        {
          "output_type": "stream",
          "name": "stdout",
          "text": [
            "Shop Name: Updated Shop A\n",
            "Category: Updated Category\n",
            "Location: Floor 1, Aisle 3\n",
            "Rating: 3\n"
          ]
        }
      ]
    },
    {
      "cell_type": "markdown",
      "source": [
        "## 3. Edge Operations:"
      ],
      "metadata": {
        "id": "lZI2D6gfJx5Y"
      }
    },
    {
      "cell_type": "markdown",
      "source": [
        "**Add Edge**"
      ],
      "metadata": {
        "id": "PtZQYHpD_fsq"
      }
    },
    {
      "cell_type": "code",
      "source": [
        "#Establishing new paths (adding edges)\n",
        "\n",
        "class ShopNavigationSystem:\n",
        "    def __init__(self):\n",
        "        self.graph = {}\n",
        "        self.shops = {}\n",
        "\n",
        "    # ... (previous code)\n",
        "\n",
        "    def add_shop_node(self, shop_number, shop_name, category, location, rating):\n",
        "        if shop_number in self.graph:\n",
        "            print(f\"Shop with shop number {shop_number} already exists.\")\n",
        "        else:\n",
        "            # Add the shop as a node in the graph\n",
        "            self.graph[shop_number] = set()\n",
        "\n",
        "            # Store shop information\n",
        "            self.shops[shop_number] = {\n",
        "                'shop_name': shop_name,\n",
        "                'category': category,\n",
        "                'location': location,\n",
        "                'rating': rating\n",
        "            }\n",
        "\n",
        "    def add_edge(self, shop1, shop2):\n",
        "        if shop1 in self.graph and shop2 in self.graph:\n",
        "            self.graph[shop1].add(shop2)\n",
        "            self.graph[shop2].add(shop1)\n",
        "            print(f\"Edge added between Shop {shop1} and Shop {shop2}.\")\n",
        "        else:\n",
        "            print(\"One or both of the shops do not exist.\")\n",
        "\n",
        "# Example usage:\n",
        "def main():\n",
        "    navigation_system = ShopNavigationSystem()\n",
        "\n",
        "    # Add new shop nodes\n",
        "    navigation_system.add_shop_node(1, \"Shop A\", \"Electronics\", \"Floor 1, Aisle 3\", 4)\n",
        "    navigation_system.add_shop_node(2, \"Shop B\", \"Clothing\", \"Floor 2, Aisle 1\", 5)\n",
        "\n",
        "    # Add an edge to connect shops\n",
        "    navigation_system.add_edge(1, 2)\n",
        "\n",
        "if __name__ == '__main__':\n",
        "    main()\n"
      ],
      "metadata": {
        "colab": {
          "base_uri": "https://localhost:8080/"
        },
        "id": "8sBG1ibRJxky",
        "outputId": "e5cc13e6-ef00-4512-c4d5-619ad776d238"
      },
      "execution_count": null,
      "outputs": [
        {
          "output_type": "stream",
          "name": "stdout",
          "text": [
            "Edge added between Shop 1 and Shop 2.\n"
          ]
        }
      ]
    },
    {
      "cell_type": "code",
      "source": [
        "import networkx as nx\n",
        "import matplotlib.pyplot as plt\n",
        "\n",
        "class ShopNavigationSystem:\n",
        "    def __init__(self):\n",
        "        self.graph = nx.DiGraph()  # Create a directed graph\n",
        "        self.shops = {}\n",
        "\n",
        "    def add_shop_node(self, shop_number, shop_name, category, location, rating):\n",
        "        if shop_number in self.graph:\n",
        "            print(f\"Shop with shop number {shop_number} already exists.\")\n",
        "        else:\n",
        "            # Add the shop as a node in the graph\n",
        "            self.graph.add_node(shop_number)\n",
        "\n",
        "            # Store shop information\n",
        "            self.shops[shop_number] = {\n",
        "                'shop_name': shop_name,\n",
        "                'category': category,\n",
        "                'location': location,\n",
        "                'rating': rating\n",
        "            }\n",
        "\n",
        "    def add_edge(self, shop1, shop2):\n",
        "        if shop1 in self.graph and shop2 in self.graph:\n",
        "            self.graph.add_edge(shop1, shop2)\n",
        "            print(f\"Edge added from Shop {shop1} to Shop {shop2}.\")\n",
        "        else:\n",
        "            print(\"One or both of the shops do not exist.\")\n",
        "\n",
        "# Example usage:\n",
        "def main():\n",
        "    navigation_system = ShopNavigationSystem()\n",
        "\n",
        "    # Add new shop nodes\n",
        "    navigation_system.add_shop_node(1, \"Shop A\", \"Electronics\", \"Floor 1, Aisle 3\", 4)\n",
        "    navigation_system.add_shop_node(2, \"Shop B\", \"Clothing\", \"Floor 2, Aisle 1\", 5)\n",
        "\n",
        "    # Add directed edge to connect shops\n",
        "    navigation_system.add_edge(1, 2)\n",
        "\n",
        "    # Create a directed graph visualization\n",
        "    pos = nx.spring_layout(navigation_system.graph, seed=42)\n",
        "    labels = {node: f\"{node}\\n{navigation_system.shops[node]['shop_name']}\" for node in navigation_system.graph.nodes}\n",
        "\n",
        "    nx.draw(navigation_system.graph, pos, labels=labels, with_labels=True, node_size=500, node_color='lightblue',\n",
        "            font_size=8, font_color='black', font_weight='bold', arrowsize=20, connectionstyle=\"arc3,rad=0.1\")\n",
        "\n",
        "    plt.title(\"Directed Shop Navigation Graph\")\n",
        "    plt.axis(\"off\")\n",
        "    plt.show()\n",
        "\n",
        "if __name__ == '__main__':\n",
        "    main()\n"
      ],
      "metadata": {
        "colab": {
          "base_uri": "https://localhost:8080/",
          "height": 556
        },
        "id": "0XPcoga4OdPB",
        "outputId": "43ef1683-4f92-456c-e24a-85a3589c2453"
      },
      "execution_count": null,
      "outputs": [
        {
          "output_type": "stream",
          "name": "stdout",
          "text": [
            "Edge added from Shop 1 to Shop 2.\n"
          ]
        },
        {
          "output_type": "display_data",
          "data": {
            "text/plain": [
              "<Figure size 640x480 with 1 Axes>"
            ],
            "image/png": "[encoded data removed]"
          },
          "metadata": {}
        }
      ]
    },
    {
      "cell_type": "markdown",
      "source": [
        "**Delete Edge**"
      ],
      "metadata": {
        "id": "xWCy5dsX_ucu"
      }
    },
    {
      "cell_type": "code",
      "source": [
        "#Closing paths (deleting edges).\n",
        "\n",
        "class ShopNavigationSystem:\n",
        "    def __init__(self):\n",
        "        self.graph = {}\n",
        "        self.shops = {}\n",
        "\n",
        "    def add_shop_node(self, shop_number, shop_name, category, location, rating):\n",
        "        if shop_number in self.graph:\n",
        "            print(f\"Shop with shop number {shop_number} already exists.\")\n",
        "        else:\n",
        "            # Add the shop as a node in the graph\n",
        "            self.graph[shop_number] = set()\n",
        "\n",
        "            # Store shop information\n",
        "            self.shops[shop_number] = {\n",
        "                'shop_name': shop_name,\n",
        "                'category': category,\n",
        "                'location': location,\n",
        "                'rating': rating\n",
        "            }\n",
        "\n",
        "    def add_edge(self, shop1, shop2):\n",
        "        if shop1 in self.graph and shop2 in self.graph:\n",
        "            self.graph[shop1].add(shop2)\n",
        "            self.graph[shop2].add(shop1)\n",
        "            print(f\"Edge added between Shop {shop1} and Shop {shop2}.\")\n",
        "        else:\n",
        "            print(\"One or both of the shops do not exist.\")\n",
        "\n",
        "    def remove_edge(self, shop1, shop2):\n",
        "        if shop1 in self.graph and shop2 in self.graph:\n",
        "            if shop2 in self.graph[shop1] and shop1 in self.graph[shop2]:\n",
        "                self.graph[shop1].remove(shop2)\n",
        "                self.graph[shop2].remove(shop1)\n",
        "                print(f\"Edge removed between Shop {shop1} and Shop {shop2}.\")\n",
        "            else:\n",
        "                print(f\"No edge exists between Shop {shop1} and Shop {shop2}.\")\n",
        "        else:\n",
        "            print(\"One or both of the shops do not exist.\")\n",
        "\n",
        "# Example usage:\n",
        "def main():\n",
        "    navigation_system = ShopNavigationSystem()\n",
        "\n",
        "    # Add new shop nodes\n",
        "    navigation_system.add_shop_node(1, \"Shop A\", \"Electronics\", \"Floor 1, Aisle 3\", 4)\n",
        "    navigation_system.add_shop_node(2, \"Shop B\", \"Clothing\", \"Floor 2, Aisle 1\", 5)\n",
        "    navigation_system.add_shop_node(3, \"Shop C\", \"Books\", \"Floor 2, Aisle 2\", 3)\n",
        "\n",
        "    # Add edges to connect shops\n",
        "    navigation_system.add_edge(1, 2)\n",
        "    navigation_system.add_edge(2, 3)\n",
        "\n",
        "    # Remove an existing edge\n",
        "    navigation_system.remove_edge(1, 2)\n",
        "\n",
        "if __name__ == '__main__':\n",
        "    main()\n"
      ],
      "metadata": {
        "colab": {
          "base_uri": "https://localhost:8080/"
        },
        "id": "jiidrF_lMNBI",
        "outputId": "b1661aba-0d89-494f-9feb-22f827edcc30"
      },
      "execution_count": null,
      "outputs": [
        {
          "output_type": "stream",
          "name": "stdout",
          "text": [
            "Edge added between Shop 1 and Shop 2.\n",
            "Edge added between Shop 2 and Shop 3.\n",
            "Edge removed between Shop 1 and Shop 2.\n"
          ]
        }
      ]
    },
    {
      "cell_type": "code",
      "source": [
        "import networkx as nx\n",
        "import matplotlib.pyplot as plt\n",
        "\n",
        "class ShopNavigationSystem:\n",
        "    def __init__(self):\n",
        "        self.graph = nx.DiGraph()  # Create a directed graph\n",
        "        self.shops = {}\n",
        "\n",
        "    def add_shop_node(self, shop_number, shop_name, category, location, rating):\n",
        "        if shop_number in self.graph:\n",
        "            print(f\"Shop with shop number {shop_number} already exists.\")\n",
        "        else:\n",
        "            # Add the shop as a node in the graph\n",
        "            self.graph.add_node(shop_number)\n",
        "\n",
        "            # Store shop information\n",
        "            self.shops[shop_number] = {\n",
        "                'shop_name': shop_name,\n",
        "                'category': category,\n",
        "                'location': location,\n",
        "                'rating': rating\n",
        "            }\n",
        "\n",
        "    def add_edge(self, shop1, shop2):\n",
        "        if shop1 in self.graph and shop2 in self.graph:\n",
        "            self.graph.add_edge(shop1, shop2)\n",
        "            print(f\"Edge added from Shop {shop1} to Shop {shop2}.\")\n",
        "        else:\n",
        "            print(\"One or both of the shops do not exist.\")\n",
        "\n",
        "    def remove_edge(self, shop1, shop2):\n",
        "        if shop1 in self.graph and shop2 in self.graph:\n",
        "            if self.graph.has_edge(shop1, shop2):\n",
        "                self.graph.remove_edge(shop1, shop2)\n",
        "                print(f\"Edge removed from Shop {shop1} to Shop {shop2}.\")\n",
        "            else:\n",
        "                print(f\"No edge exists from Shop {shop1} to Shop {shop2}.\")\n",
        "        else:\n",
        "            print(\"One or both of the shops do not exist.\")\n",
        "\n",
        "# Example usage:\n",
        "def main():\n",
        "    navigation_system = ShopNavigationSystem()\n",
        "\n",
        "    # Add new shop nodes\n",
        "    navigation_system.add_shop_node(1, \"Shop A\", \"Electronics\", \"Floor 1, Aisle 3\", 4)\n",
        "    navigation_system.add_shop_node(2, \"Shop B\", \"Clothing\", \"Floor 2, Aisle 1\", 5)\n",
        "    navigation_system.add_shop_node(3, \"Shop C\", \"Books\", \"Floor 2, Aisle 2\", 3)\n",
        "\n",
        "    # Add directed edges to connect shops\n",
        "    navigation_system.add_edge(1, 2)\n",
        "    navigation_system.add_edge(2, 3)\n",
        "\n",
        "    # Remove an existing directed edge\n",
        "    navigation_system.remove_edge(1, 2)\n",
        "\n",
        "    # Create a directed graph visualization\n",
        "    pos = nx.spring_layout(navigation_system.graph, seed=42)\n",
        "    labels = {node: f\"{node}\\n{navigation_system.shops[node]['shop_name']}\" for node in navigation_system.graph.nodes}\n",
        "\n",
        "    nx.draw(navigation_system.graph, pos, labels=labels, with_labels=True, node_size=500, node_color='lightblue', font_size=8, font_color='black', font_weight='bold', arrowsize=20, connectionstyle=\"arc3,rad=0.1\")\n",
        "\n",
        "    plt.title(\"Directed Shop Navigation Graph\")\n",
        "    plt.axis(\"off\")\n",
        "    plt.show()\n",
        "\n",
        "if __name__ == '__main__':\n",
        "    main()\n"
      ],
      "metadata": {
        "colab": {
          "base_uri": "https://localhost:8080/",
          "height": 591
        },
        "id": "-L4Af7iYN9R5",
        "outputId": "00e80163-862a-4b74-f757-f7b07005d78a"
      },
      "execution_count": null,
      "outputs": [
        {
          "output_type": "stream",
          "name": "stdout",
          "text": [
            "Edge added from Shop 1 to Shop 2.\n",
            "Edge added from Shop 2 to Shop 3.\n",
            "Edge removed from Shop 1 to Shop 2.\n"
          ]
        },
        {
          "output_type": "display_data",
          "data": {
            "text/plain": [
              "<Figure size 640x480 with 1 Axes>"
            ],
            "image/png": "[encoded data removed]"
          },
          "metadata": {}
        }
      ]
    },
    {
      "cell_type": "markdown",
      "source": [
        "## 4. Graph Traversal:"
      ],
      "metadata": {
        "id": "rstI03TsQWsP"
      }
    },
    {
      "cell_type": "markdown",
      "source": [
        "**Input Validation**"
      ],
      "metadata": {
        "id": "2bMiLjFWAsn8"
      }
    },
    {
      "cell_type": "code",
      "source": [
        "#Input Validation\n",
        "\n",
        "def validate_input(self, source_shop, destination_shop):\n",
        "    if source_shop not in self.graph:\n",
        "        print(f\"Source shop {source_shop} is invalid.\")\n",
        "        return False\n",
        "    if destination_shop not in self.graph:\n",
        "        print(f\"Destination shop {destination_shop} is invalid.\")\n",
        "        return False\n",
        "    return True"
      ],
      "metadata": {
        "id": "GNu0b-HaP7Nx"
      },
      "execution_count": null,
      "outputs": []
    },
    {
      "cell_type": "markdown",
      "source": [
        "#DFS (Depth First Search)"
      ],
      "metadata": {
        "id": "5Y3D8CaEe8SN"
      }
    },
    {
      "cell_type": "code",
      "source": [
        "#Implement DFS Correctly\n",
        "\n",
        "def dfs(self, current_shop, destination_shop, visited):\n",
        "    visited.add(current_shop)\n",
        "    if current_shop == destination_shop:\n",
        "        return [current_shop]\n",
        "\n",
        "    for neighbor_shop in self.graph[current_shop]:\n",
        "        if neighbor_shop not in visited:\n",
        "            path = self.dfs(neighbor_shop, destination_shop, visited)\n",
        "            if path:\n",
        "                return [current_shop] + path\n",
        "    return []\n",
        "\n",
        "def dfs_search(self, source_shop, destination_shop):\n",
        "    visited = set()\n",
        "    if self.validate_input(source_shop, destination_shop):\n",
        "        path = self.dfs(source_shop, destination_shop, visited)\n",
        "        return path if path else None\n",
        "    else:\n",
        "        return None"
      ],
      "metadata": {
        "id": "liRtS34EQioS"
      },
      "execution_count": null,
      "outputs": []
    },
    {
      "cell_type": "code",
      "source": [
        "# Define a class to represent a graph\n",
        "class Graph:\n",
        "    def __init__(self, adjacency_matrix):\n",
        "        self.graph = {}  # Adjacency list representation of the graph\n",
        "        self.visited = {}  # Dictionary to keep track of visited nodes\n",
        "\n",
        "        # Create nodes and edges based on the adjacency matrix\n",
        "        for i in range(len(adjacency_matrix)):\n",
        "            self.add_node(str(i))  # Create nodes with string labels\n",
        "            for j in range(len(adjacency_matrix[i])):\n",
        "                if adjacency_matrix[i][j] == 1:\n",
        "                    self.add_edge(str(i), str(j))\n",
        "\n",
        "    # Function to add a node to the graph\n",
        "    def add_node(self, node):\n",
        "        self.graph[node] = []\n",
        "\n",
        "    # Function to add an edge to the graph\n",
        "    def add_edge(self, node, neighbor):\n",
        "        if node in self.graph:\n",
        "            self.graph[node].append(neighbor)\n",
        "\n",
        "    # Function to perform Depth-First Search from a given node\n",
        "    def dfs(self, node, destination):\n",
        "        self.visited[node] = True\n",
        "        if node == destination:\n",
        "            return [node]\n",
        "\n",
        "        if node in self.graph:\n",
        "            for neighbor in self.graph[node]:\n",
        "                if neighbor not in self.visited:\n",
        "                    path = self.dfs(neighbor, destination)\n",
        "                    if path:\n",
        "                        return [node] + path\n",
        "\n",
        "        return []\n",
        "\n",
        "    # Function to start DFS traversal from a given node\n",
        "    def dfs_traversal(self, start_node, destination):\n",
        "        self.visited = {}  # Reset visited nodes\n",
        "        path = self.dfs(start_node, destination)\n",
        "        return path if path else None\n",
        "\n",
        "# Define the adjacency matrix\n",
        "adjacency_matrix = [\n",
        "    [0, 1, 1, 0, 0],\n",
        "    [0, 0, 1, 0, 0],\n",
        "    [1, 0, 0, 1, 0],\n",
        "    [0, 0, 0, 0, 0],\n",
        "    [0, 0, 0, 0, 0]\n",
        "]\n",
        "\n",
        "# Create a graph from the adjacency matrix\n",
        "graph = Graph(adjacency_matrix)\n",
        "\n",
        "# Example usage:\n",
        "source = '0'  # Start node\n",
        "destination = '3'  # Destination node\n",
        "\n",
        "# Perform DFS traversal starting from the source to the destination\n",
        "dfs_path = graph.dfs_traversal(source, destination)\n",
        "\n",
        "if dfs_path:\n",
        "    print(f\"DFS Path from {source} to {destination}: {' -> '.join(dfs_path)}\")\n",
        "else:\n",
        "    print(f\"No valid path exists from {source} to {destination}.\")\n"
      ],
      "metadata": {
        "colab": {
          "base_uri": "https://localhost:8080/"
        },
        "id": "8uzUH4Eqc3Uz",
        "outputId": "3e0d5036-dd2e-44d2-c974-39e54b81d336"
      },
      "execution_count": null,
      "outputs": [
        {
          "output_type": "stream",
          "name": "stdout",
          "text": [
            "DFS Path from 0 to 3: 0 -> 1 -> 2 -> 3\n"
          ]
        }
      ]
    },
    {
      "cell_type": "code",
      "source": [
        "!pip install networkx"
      ],
      "metadata": {
        "colab": {
          "base_uri": "https://localhost:8080/"
        },
        "id": "uNo2Q28wWjLG",
        "outputId": "27aed0c9-dd1c-43a4-8a3c-ee33a33bdf12"
      },
      "execution_count": null,
      "outputs": [
        {
          "output_type": "stream",
          "name": "stdout",
          "text": [
            "Requirement already satisfied: networkx in /usr/local/lib/python3.10/dist-packages (3.1)\n"
          ]
        }
      ]
    },
    {
      "cell_type": "code",
      "source": [
        "import networkx as nx\n",
        "import matplotlib.pyplot as plt\n",
        "\n",
        "# Create a directed graph using NetworkX\n",
        "G = nx.DiGraph()\n",
        "\n",
        "# Add nodes and edges to the NetworkX graph based on your graph's adjacency list\n",
        "for node, neighbors in graph.graph.items():\n",
        "    G.add_node(node)\n",
        "    for neighbor in neighbors:\n",
        "        G.add_edge(node, neighbor)\n",
        "\n",
        "# Draw the graph\n",
        "pos = nx.spring_layout(G)\n",
        "nx.draw(G, pos, with_labels=True, node_size=1000, node_color='lightblue', font_size=12, font_color='black')\n",
        "plt.title(\"Directed Graph\")\n",
        "plt.show()\n"
      ],
      "metadata": {
        "colab": {
          "base_uri": "https://localhost:8080/",
          "height": 539
        },
        "id": "-5M8G2hXXVWj",
        "outputId": "697635d3-1fa3-4780-a99f-e7ce7a76748b"
      },
      "execution_count": null,
      "outputs": [
        {
          "output_type": "display_data",
          "data": {
            "text/plain": [
              "<Figure size 640x480 with 1 Axes>"
            ],
            "image/png": "[encoded data removed]"
          },
          "metadata": {}
        }
      ]
    },
    {
      "cell_type": "markdown",
      "source": [
        "# BFS (Breath Fisrt Search)"
      ],
      "metadata": {
        "id": "ybmLxeW-ewDa"
      }
    },
    {
      "cell_type": "code",
      "source": [
        "#Implement BFS Correctly\n",
        "\n",
        "from collections import deque\n",
        "\n",
        "def bfs_search(self, source_shop, destination_shop):\n",
        "    if not self.validate_input(source_shop, destination_shop):\n",
        "        return None\n",
        "\n",
        "    queue = deque([(source_shop, [])])\n",
        "    visited = set()\n",
        "\n",
        "    while queue:\n",
        "        current_shop, path = queue.popleft()\n",
        "        visited.add(current_shop)\n",
        "\n",
        "        if current_shop == destination_shop:\n",
        "            return path + [current_shop]\n",
        "\n",
        "        for neighbor_shop in self.graph[current_shop]:\n",
        "            if neighbor_shop not in visited:\n",
        "                queue.append((neighbor_shop, path + [current_shop]))\n",
        "\n",
        "    return None\n"
      ],
      "metadata": {
        "id": "_I7_HUV6QnXK"
      },
      "execution_count": null,
      "outputs": []
    },
    {
      "cell_type": "code",
      "source": [
        "from collections import deque\n",
        "\n",
        "class Graph:\n",
        "    def __init__(self, adjacency_matrix):\n",
        "        self.graph = {}  # Adjacency list representation of the graph\n",
        "        self.visited = {}  # Dictionary to keep track of visited nodes\n",
        "\n",
        "        # Create nodes and edges based on the adjacency matrix\n",
        "        for i in range(len(adjacency_matrix)):\n",
        "            self.add_node(str(i))  # Create nodes with string labels\n",
        "            for j in range(len(adjacency_matrix[i])):\n",
        "                if adjacency_matrix[i][j] == 1:\n",
        "                    self.add_edge(str(i), str(j))\n",
        "\n",
        "    # Function to add a node to the graph\n",
        "    def add_node(self, node):\n",
        "        self.graph[node] = []\n",
        "\n",
        "    # Function to add an edge to the graph\n",
        "    def add_edge(self, node, neighbor):\n",
        "        if node in self.graph:\n",
        "            self.graph[node].append(neighbor)\n",
        "\n",
        "    # Function to perform Breadth-First Search from a given node\n",
        "    def bfs(self, start_node, destination):\n",
        "        queue = deque()\n",
        "        queue.append(start_node)\n",
        "        self.visited[start_node] = True\n",
        "\n",
        "        while queue:\n",
        "            current_node = queue.popleft()\n",
        "            if current_node == destination:\n",
        "                return self.construct_path(start_node, destination)\n",
        "\n",
        "            if current_node in self.graph:\n",
        "                for neighbor in self.graph[current_node]:\n",
        "                    if neighbor not in self.visited:\n",
        "                        queue.append(neighbor)\n",
        "                        self.visited[neighbor] = True\n",
        "\n",
        "        return []\n",
        "\n",
        "    # Function to construct the path from start_node to destination\n",
        "    def construct_path(self, start_node, destination):\n",
        "        path = []\n",
        "        current_node = destination\n",
        "        while current_node != start_node:\n",
        "            path.append(current_node)\n",
        "            current_node = self.get_parent(current_node)\n",
        "        path.append(start_node)\n",
        "        return path[::-1]  # Reverse the path to get it from start to destination\n",
        "\n",
        "    # Function to get the parent node of a given node in the BFS traversal\n",
        "    def get_parent(self, node):\n",
        "        for parent_node in self.graph:\n",
        "            if node in self.graph[parent_node]:\n",
        "                return parent_node\n",
        "        return None\n",
        "\n",
        "    # Function to start BFS traversal from a given node\n",
        "    def bfs_traversal(self, start_node, destination):\n",
        "        self.visited = {}  # Reset visited nodes\n",
        "        path = self.bfs(start_node, destination)\n",
        "        return path if path else None\n",
        "\n",
        "# Define the adjacency matrix\n",
        "adjacency_matrix = [\n",
        "    [0, 1, 1, 0, 0],\n",
        "    [0, 0, 1, 0, 0],\n",
        "    [1, 0, 0, 1, 0],\n",
        "    [0, 0, 0, 0, 0],\n",
        "    [0, 0, 0, 0, 0]\n",
        "]\n",
        "\n",
        "# Create a graph from the adjacency matrix\n",
        "graph = Graph(adjacency_matrix)\n",
        "\n",
        "# Example usage:\n",
        "source = '0'  # Start node\n",
        "destination = '3'  # Destination node\n",
        "\n",
        "# Perform BFS traversal starting from the source to the destination\n",
        "bfs_path = graph.bfs_traversal(source, destination)\n",
        "\n",
        "if bfs_path:\n",
        "    print(f\"BFS Path from {source} to {destination}: {' -> '.join(bfs_path)}\")\n",
        "else:\n",
        "    print(f\"No valid path exists from {source} to {destination}.\")\n"
      ],
      "metadata": {
        "colab": {
          "base_uri": "https://localhost:8080/"
        },
        "id": "xNxDmUxHmVEB",
        "outputId": "ff4c37fe-b5d7-4bea-8f50-da583bf54989"
      },
      "execution_count": null,
      "outputs": [
        {
          "output_type": "stream",
          "name": "stdout",
          "text": [
            "BFS Path from 0 to 3: 0 -> 2 -> 3\n"
          ]
        }
      ]
    },
    {
      "cell_type": "code",
      "source": [
        "# Create a directed graph using NetworkX\n",
        "G = nx.DiGraph()\n",
        "\n",
        "# Add nodes and edges to the NetworkX graph based on your graph's adjacency list\n",
        "for node, neighbors in graph.graph.items():\n",
        "    G.add_node(node)\n",
        "    for neighbor in neighbors:\n",
        "        G.add_edge(node, neighbor)\n",
        "\n",
        "# Draw the graph\n",
        "pos = nx.spring_layout(G)\n",
        "nx.draw(G, pos, with_labels=True, node_size=1000, node_color='lightblue', font_size=12, font_color='black')\n",
        "plt.title(\"Directed Graph\")\n",
        "plt.show()"
      ],
      "metadata": {
        "colab": {
          "base_uri": "https://localhost:8080/",
          "height": 539
        },
        "id": "-y2gHHpDnXTl",
        "outputId": "66d8afa5-704a-4e3a-a612-e530678b62c9"
      },
      "execution_count": null,
      "outputs": [
        {
          "output_type": "display_data",
          "data": {
            "text/plain": [
              "<Figure size 640x480 with 1 Axes>"
            ],
            "image/png": "[encoded data removed]"
          },
          "metadata": {}
        }
      ]
    },
    {
      "cell_type": "markdown",
      "source": [
        "**Display Paths with Error Handling:**\n"
      ],
      "metadata": {
        "id": "5nQzsrNRBJbt"
      }
    },
    {
      "cell_type": "code",
      "source": [
        "#Display Paths with error handling\n",
        "\n",
        "def display_path(self, source_shop, destination_shop):\n",
        "    dfs_path = self.dfs_search(source_shop, destination_shop)\n",
        "    bfs_path = self.bfs_search(source_shop, destination_shop)\n",
        "\n",
        "    if dfs_path and bfs_path:\n",
        "        print(\"DFS Path:\", dfs_path)\n",
        "        print(\"BFS Path:\", bfs_path)\n",
        "    elif dfs_path:\n",
        "        print(\"DFS Path:\", dfs_path)\n",
        "        print(\"No BFS Path found.\")\n",
        "    elif bfs_path:\n",
        "        print(\"No DFS Path found.\")\n",
        "        print(\"BFS Path:\", bfs_path)\n",
        "    else:\n",
        "        print(\"No valid path exists between the source and destination shops.\")\n"
      ],
      "metadata": {
        "id": "XbMxApK-QqQX"
      },
      "execution_count": null,
      "outputs": []
    },
    {
      "cell_type": "markdown",
      "source": [
        "**Compare both paths distance**"
      ],
      "metadata": {
        "id": "w1amWzETBNZP"
      }
    },
    {
      "cell_type": "code",
      "source": [
        "#Compare both paths distance\n",
        "\n",
        "def path_distance(self, path):\n",
        "    return len(path) if path else float('inf')\n",
        "\n",
        "def compare_paths(self, source_shop, destination_shop):\n",
        "    dfs_path = self.dfs_search(source_shop, destination_shop)\n",
        "    bfs_path = self.bfs_search(source_shop, destination_shop)\n",
        "\n",
        "    dfs_distance = self.path_distance(dfs_path)\n",
        "    bfs_distance = self.path_distance(bfs_path)\n",
        "\n",
        "    return dfs_distance, bfs_distance\n",
        "\n",
        "def find_shortest_path(self, source_shop, destination_shop):\n",
        "    dfs_distance, bfs_distance = self.compare_paths(source_shop, destination_shop)\n",
        "\n",
        "    if dfs_distance < bfs_distance:\n",
        "        return \"DFS\"\n",
        "    elif dfs_distance > bfs_distance:\n",
        "        return \"BFS\"\n",
        "    else:\n",
        "        return \"Both DFS and BFS have the same shortest path length.\"\n"
      ],
      "metadata": {
        "id": "NQ5uigHJQuHC"
      },
      "execution_count": null,
      "outputs": []
    },
    {
      "cell_type": "code",
      "source": [
        "def dfs_search(self, source_shop, destination_shop):\n",
        "    visited = set()\n",
        "    path = self.dfs(source_shop, destination_shop, visited)\n",
        "    return path if path else []\n",
        "\n",
        "def dfs(self, current_shop, destination_shop, visited):\n",
        "    visited.add(current_shop)\n",
        "\n",
        "    if current_shop == destination_shop:\n",
        "        return [current_shop]\n",
        "\n",
        "    for neighbor in self.graph.get(current_shop, []):\n",
        "        if neighbor not in visited:\n",
        "            path = self.dfs(neighbor, destination_shop, visited)\n",
        "            if path:\n",
        "                return [current_shop] + path\n",
        "\n",
        "    return []\n",
        "\n",
        "def bfs_search(self, source_shop, destination_shop):\n",
        "    queue = [(source_shop, [source_shop])]\n",
        "    visited = set()\n",
        "\n",
        "    while queue:\n",
        "        current_shop, path = queue.pop(0)\n",
        "\n",
        "        if current_shop == destination_shop:\n",
        "            return path\n",
        "\n",
        "        visited.add(current_shop)\n",
        "\n",
        "        for neighbor in self.graph.get(current_shop, []):\n",
        "            if neighbor not in visited:\n",
        "                queue.append((neighbor, path + [neighbor]))\n",
        "\n",
        "    return []"
      ],
      "metadata": {
        "id": "_ui4nDL3r-aR"
      },
      "execution_count": null,
      "outputs": []
    },
    {
      "cell_type": "code",
      "source": [
        "class ShopNavigationSystem:\n",
        "    def __init__(self, adjacency_matrix):\n",
        "        self.graph = {}  # Adjacency list representation of the graph\n",
        "        self.visited = {}  # Dictionary to keep track of visited nodes\n",
        "\n",
        "        # Create nodes and edges based on the adjacency matrix\n",
        "        for i in range(len(adjacency_matrix)):\n",
        "            self.add_node(str(i))  # Create nodes with string labels\n",
        "            for j in range(len(adjacency_matrix[i])):\n",
        "                if adjacency_matrix[i][j] == 1:\n",
        "                    self.add_edge(str(i), str(j))\n",
        "\n",
        "    # Other methods and class implementation...\n",
        "\n",
        "    def dfs_search(self, source_shop, destination_shop):\n",
        "        # Implement DFS search here\n",
        "        pass\n",
        "\n",
        "    def bfs_search(self, source_shop, destination_shop):\n",
        "        # Implement BFS search here\n",
        "        pass\n",
        "\n"
      ],
      "metadata": {
        "id": "HkQRwlIry9Zh"
      },
      "execution_count": null,
      "outputs": []
    },
    {
      "cell_type": "code",
      "source": [
        "class ShopNavigationSystem:\n",
        "    def __init__(self):\n",
        "        # Initialize your navigation system, add shops and edges here.\n",
        "        self.graph = {}  # Use this to represent your graph.\n",
        "\n",
        "    # Define your other methods here, including DFS and BFS traversal.\n",
        "\n",
        "    def dfs(self, start, end, visited=None, path=None):\n",
        "        # Implement your DFS traversal method here.\n",
        "        pass\n",
        "\n",
        "    def bfs(self, start, end):\n",
        "        # Implement your BFS traversal method here.\n",
        "        pass\n",
        "\n",
        "    def shortest_path(self, source, destination):\n",
        "        dfs_path = self.dfs(source, destination)\n",
        "        bfs_path = self.bfs(source, destination)\n",
        "\n",
        "        if dfs_path and bfs_path:\n",
        "            dfs_length = len(dfs_path)\n",
        "            bfs_length = len(bfs_path)\n",
        "\n",
        "            if dfs_length <= bfs_length:\n",
        "                return dfs_path\n",
        "            else:\n",
        "                return bfs_path\n",
        "        elif dfs_path:\n",
        "            return dfs_path\n",
        "        elif bfs_path:\n",
        "            return bfs_path\n",
        "        else:\n",
        "            return None\n",
        "\n",
        "    def main(self):\n",
        "        source = 0\n",
        "        destination = 3\n",
        "\n",
        "        shortest_path = self.shortest_path(source, destination)\n",
        "\n",
        "        if shortest_path:\n",
        "            print(\"Shortest Path:\", \" -> \".join(map(str, shortest_path)))\n",
        "        else:\n",
        "            print(\"No valid path exists from\", source, \"to\", destination)\n",
        "\n",
        "# Create an instance of ShopNavigationSystem\n",
        "navigation_system = ShopNavigationSystem()\n",
        "\n",
        "if __name__ == '__main__':\n",
        "    navigation_system.main()\n"
      ],
      "metadata": {
        "colab": {
          "base_uri": "https://localhost:8080/"
        },
        "id": "kJD7XkcOzhi7",
        "outputId": "aeda49a2-1c35-4ccc-9cfe-4a617f04391d"
      },
      "execution_count": null,
      "outputs": [
        {
          "output_type": "stream",
          "name": "stdout",
          "text": [
            "No valid path exists from 0 to 3\n"
          ]
        }
      ]
    },
    {
      "cell_type": "code",
      "source": [
        "import networkx as nx\n",
        "import matplotlib.pyplot as plt\n",
        "from collections import deque\n",
        "\n",
        "class ShopNavigationSystem:\n",
        "    def __init__(self):\n",
        "        self.graph = {}  # Adjacency list representation of the graph\n",
        "        self.shops = {}\n",
        "        self.visited = {}\n",
        "\n",
        "    # Function to add a shop node to the graph\n",
        "    def add_shop_node(self, shop_number, shop_name, category, location, rating):\n",
        "        if shop_number not in self.graph:\n",
        "            self.graph[shop_number] = []\n",
        "            self.shops[shop_number] = {\n",
        "                'shop_name': shop_name,\n",
        "                'category': category,\n",
        "                'location': location,\n",
        "                'rating': rating\n",
        "            }\n",
        "\n",
        "    # Function to add an edge between two shops\n",
        "    def add_edge(self, shop1, shop2):\n",
        "        if shop1 in self.graph and shop2 in self.graph:\n",
        "            self.graph[shop1].append(shop2)\n",
        "            self.graph[shop2].append(shop1)\n",
        "\n",
        "    # Function to validate input\n",
        "    def validate_input(self, source_shop, destination_shop):\n",
        "        if source_shop not in self.graph:\n",
        "            print(f\"Source shop {source_shop} is invalid.\")\n",
        "            return False\n",
        "        if destination_shop not in self.graph:\n",
        "            print(f\"Destination shop {destination_shop} is invalid.\")\n",
        "            return False\n",
        "        return True\n",
        "\n",
        "    # Function to calculate the path distance\n",
        "    def path_distance(self, path):\n",
        "        return len(path) if path else float('inf')\n",
        "\n",
        "    # Function to perform Depth-First Search (DFS)\n",
        "    def dfs(self, current_shop, destination_shop, visited):\n",
        "        visited.add(current_shop)\n",
        "        if current_shop == destination_shop:\n",
        "            return [current_shop]\n",
        "\n",
        "        for neighbor_shop in self.graph[current_shop]:\n",
        "            if neighbor_shop not in visited:\n",
        "                path = self.dfs(neighbor_shop, destination_shop, visited)\n",
        "                if path:\n",
        "                    return [current_shop] + path\n",
        "        return []\n",
        "\n",
        "    # Function to find the DFS path\n",
        "    def dfs_search(self, source_shop, destination_shop):\n",
        "        visited = set()\n",
        "        if self.validate_input(source_shop, destination_shop):\n",
        "            path = self.dfs(source_shop, destination_shop, visited)\n",
        "            return path if path else None\n",
        "        else:\n",
        "            return None\n",
        "\n",
        "    # Function to perform Breadth-First Search (BFS)\n",
        "    def bfs_search(self, source_shop, destination_shop):\n",
        "        if not self.validate_input(source_shop, destination_shop):\n",
        "            return None\n",
        "\n",
        "        queue = deque([(source_shop, [])])\n",
        "        visited = set()\n",
        "\n",
        "        while queue:\n",
        "            current_shop, path = queue.popleft()\n",
        "            visited.add(current_shop)\n",
        "\n",
        "            if current_shop == destination_shop:\n",
        "                return path + [current_shop]\n",
        "\n",
        "            for neighbor_shop in self.graph[current_shop]:\n",
        "                if neighbor_shop not in visited:\n",
        "                    queue.append((neighbor_shop, path + [current_shop]))\n",
        "\n",
        "        return None\n",
        "\n",
        "    # Function to display the shortest path among the paths found from BFS and DFS\n",
        "    def display_shortest_path(self, source_shop, destination_shop):\n",
        "        dfs_path = self.dfs_search(source_shop, destination_shop)\n",
        "        bfs_path = self.bfs_search(source_shop, destination_shop)\n",
        "\n",
        "        if dfs_path and bfs_path:\n",
        "            print(\"DFS Path:\", dfs_path)\n",
        "            print(\"BFS Path:\", bfs_path)\n",
        "\n",
        "            dfs_distance = self.path_distance(dfs_path)\n",
        "            bfs_distance = self.path_distance(bfs_path)\n",
        "\n",
        "            if dfs_distance < bfs_distance:\n",
        "                shortest_path = dfs_path\n",
        "                shortest_method = \"DFS\"\n",
        "            elif bfs_distance < dfs_distance:\n",
        "                shortest_path = bfs_path\n",
        "                shortest_method = \"BFS\"\n",
        "            else:\n",
        "                shortest_path = None\n",
        "                shortest_method = \"Both DFS and BFS have the same shortest path length.\"\n",
        "\n",
        "            if shortest_path:\n",
        "                print(\"Shortest Path Method:\", shortest_method)\n",
        "                print(\"Shortest Path:\", shortest_path)\n",
        "            else:\n",
        "                print(\"No valid path exists between the source and destination shops.\")\n",
        "        elif dfs_path:\n",
        "            print(\"DFS Path:\", dfs_path)\n",
        "            print(\"No BFS Path found.\")\n",
        "        elif bfs_path:\n",
        "            print(\"No DFS Path found.\")\n",
        "            print(\"BFS Path:\", bfs_path)\n",
        "        else:\n",
        "            print(\"No valid path exists between the source and destination shops.\")\n",
        "\n",
        "# Example usage:\n",
        "def main():\n",
        "    navigation_system = ShopNavigationSystem()\n",
        "\n",
        "    # Add shop nodes and edges\n",
        "    navigation_system.add_shop_node(0, \"Shop 0\", \"Category 1\", \"Location 1\", 4)\n",
        "    navigation_system.add_shop_node(1, \"Shop 1\", \"Category 2\", \"Location 2\", 5)\n",
        "    navigation_system.add_shop_node(2, \"Shop 2\", \"Category 3\", \"Location 3\", 3)\n",
        "    navigation_system.add_shop_node(3, \"Shop 3\", \"Category 4\", \"Location 4\", 2)\n",
        "\n",
        "    navigation_system.add_edge(0, 1)\n",
        "    navigation_system.add_edge(1, 2)\n",
        "    navigation_system.add_edge(2, 3)\n",
        "\n",
        "    # Display the shortest path between two shops\n",
        "    source_shop = 0\n",
        "    destination_shop = 3\n",
        "    navigation_system.display_shortest_path(source_shop, destination_shop)\n",
        "\n",
        "if __name__ == '__main__':\n",
        "    main()\n"
      ],
      "metadata": {
        "colab": {
          "base_uri": "https://localhost:8080/"
        },
        "id": "Y9cYEwgH5w0S",
        "outputId": "f40784af-212b-4c37-fc87-9f7476f3bf2b"
      },
      "execution_count": null,
      "outputs": [
        {
          "output_type": "stream",
          "name": "stdout",
          "text": [
            "DFS Path: [0, 1, 2, 3]\n",
            "BFS Path: [0, 1, 2, 3]\n",
            "No valid path exists between the source and destination shops.\n"
          ]
        }
      ]
    },
    {
      "cell_type": "markdown",
      "source": [
        "**Display the shortest path among the paths found from BFS and DFS**"
      ],
      "metadata": {
        "id": "VwXbOs2YBfp0"
      }
    },
    {
      "cell_type": "code",
      "source": [
        "#Display the shortest path among the paths found from BFS and DFS\n",
        "\n",
        "def display_shortest_path(self, source_shop, destination_shop):\n",
        "    shortest_method = self.find_shortest_path(source_shop, destination_shop)\n",
        "    print(f\"The shortest path is found using {shortest_method}.\")"
      ],
      "metadata": {
        "id": "1_9pLzCf7dNt"
      },
      "execution_count": null,
      "outputs": []
    },
    {
      "cell_type": "code",
      "source": [
        "def main():\n",
        "    navigation_system = ShopNavigationSystem()\n",
        "\n",
        "    # Add shop nodes and edges\n",
        "    navigation_system.add_shop_node(0, \"Shop 0\", \"Category 1\", \"Location 1\", 4)\n",
        "    navigation_system.add_shop_node(1, \"Shop 1\", \"Category 2\", \"Location 2\", 5)\n",
        "    navigation_system.add_shop_node(2, \"Shop 2\", \"Category 3\", \"Location 3\", 3)\n",
        "    navigation_system.add_shop_node(3, \"Shop 3\", \"Category 4\", \"Location 4\", 2)\n",
        "\n",
        "    # Add edges to connect the shops\n",
        "    navigation_system.add_edge(0, 1)\n",
        "    navigation_system.add_edge(1, 2)\n",
        "    navigation_system.add_edge(2, 3)\n",
        "\n",
        "    # Find the shortest path using both DFS and BFS\n",
        "    source_shop = 0\n",
        "    destination_shop = 3\n",
        "    dfs_path = navigation_system.dfs_search(source_shop, destination_shop)\n",
        "    bfs_path = navigation_system.bfs_search(source_shop, destination_shop)\n",
        "\n",
        "    # Display the shortest path\n",
        "    if dfs_path and bfs_path:\n",
        "        print(\"DFS Path:\", \"->\".join(map(str, dfs_path)))\n",
        "        print(\"BFS Path:\", \"->\".join(map(str, bfs_path)))\n",
        "\n",
        "        if len(dfs_path) < len(bfs_path):\n",
        "            print(\"Shortest Path: DFS\")\n",
        "        elif len(dfs_path) > len(bfs_path):\n",
        "            print(\"Shortest Path: BFS\")\n",
        "        else:\n",
        "            print(\"Both DFS and BFS have the same shortest path length.\")\n",
        "    elif dfs_path:\n",
        "        print(\"DFS Path:\", \"->\".join(map(str, dfs_path)))\n",
        "        print(\"No BFS Path found.\")\n",
        "        print(\"Shortest Path: DFS\")\n",
        "    elif bfs_path:\n",
        "        print(\"No DFS Path found.\")\n",
        "        print(\"BFS Path:\", \"->\".join(map(str, bfs_path)))\n",
        "        print(\"Shortest Path: BFS\")\n",
        "    else:\n",
        "        print(\"No valid path exists between the source and destination shops.\")\n",
        "\n",
        "if __name__ == '__main__':\n",
        "    main()\n"
      ],
      "metadata": {
        "colab": {
          "base_uri": "https://localhost:8080/"
        },
        "id": "w1HFq0M67o5B",
        "outputId": "f90a619e-cc9d-4002-e21c-8c0c91bc30af"
      },
      "execution_count": null,
      "outputs": [
        {
          "output_type": "stream",
          "name": "stdout",
          "text": [
            "DFS Path: 0->1->2->3\n",
            "BFS Path: 0->1->2->3\n",
            "Both DFS and BFS have the same shortest path length.\n"
          ]
        }
      ]
    },
    {
      "cell_type": "code",
      "source": [
        "from collections import deque\n",
        "\n",
        "class Graph:\n",
        "    def __init__(self, adjacency_matrix):\n",
        "        self.graph = {}  # Adjacency list representation of the graph\n",
        "        self.visited = {}  # Dictionary to keep track of visited nodes\n",
        "\n",
        "        # Create nodes and edges based on the adjacency matrix\n",
        "        for i in range(len(adjacency_matrix)):\n",
        "            self.add_node(str(i))  # Create nodes with string labels\n",
        "            for j in range(len(adjacency_matrix[i])):\n",
        "                if adjacency_matrix[i][j] == 1:\n",
        "                    self.add_edge(str(i), str(j))\n",
        "\n",
        "    # Function to add a node to the graph\n",
        "    def add_node(self, node):\n",
        "        self.graph[node] = []\n",
        "\n",
        "    # Function to add an edge to the graph\n",
        "    def add_edge(self, node, neighbor):\n",
        "        if node in self.graph:\n",
        "            self.graph[node].append(neighbor)\n",
        "\n",
        "    # Function to perform Depth-First Search from a given node\n",
        "    def dfs(self, node, destination):\n",
        "        self.visited[node] = True\n",
        "        if node == destination:\n",
        "            return [node]\n",
        "\n",
        "        if node in self.graph:\n",
        "            for neighbor in self.graph[node]:\n",
        "                if neighbor not in self.visited:\n",
        "                    path = self.dfs(neighbor, destination)\n",
        "                    if path:\n",
        "                        return [node] + path\n",
        "\n",
        "        return []\n",
        "\n",
        "    # Function to perform Breadth-First Search from a given node\n",
        "    def bfs(self, start_node, destination):\n",
        "        queue = deque()\n",
        "        queue.append(start_node)\n",
        "        self.visited[start_node] = True\n",
        "\n",
        "        while queue:\n",
        "            current_node = queue.popleft()\n",
        "            if current_node == destination:\n",
        "                return self.construct_path(start_node, destination)\n",
        "\n",
        "            if current_node in self.graph:\n",
        "                for neighbor in self.graph[current_node]:\n",
        "                    if neighbor not in self.visited:\n",
        "                        queue.append(neighbor)\n",
        "                        self.visited[neighbor] = True\n",
        "\n",
        "        return []\n",
        "\n",
        "    # Function to construct the path from start_node to destination\n",
        "    def construct_path(self, start_node, destination):\n",
        "        path = []\n",
        "        current_node = destination\n",
        "        while current_node != start_node:\n",
        "            path.append(current_node)\n",
        "            current_node = self.get_parent(current_node)\n",
        "        path.append(start_node)\n",
        "        return path[::-1]  # Reverse the path to get it from start to destination\n",
        "\n",
        "    # Function to get the parent node of a given node in the BFS traversal\n",
        "    def get_parent(self, node):\n",
        "        for parent_node in self.graph:\n",
        "            if node in self.graph[parent_node]:\n",
        "                return parent_node\n",
        "        return None\n",
        "\n",
        "# Define the adjacency matrix\n",
        "adjacency_matrix = [\n",
        "    [0, 1, 1, 0, 0],\n",
        "    [0, 0, 1, 0, 0],\n",
        "    [1, 0, 0, 1, 0],\n",
        "    [0, 0, 0, 0, 0],\n",
        "    [0, 0, 0, 0, 0]\n",
        "]\n",
        "\n",
        "# Create a graph from the adjacency matrix\n",
        "graph = Graph(adjacency_matrix)\n",
        "\n",
        "# Define the source and destination nodes\n",
        "source = '0'  # Start node\n",
        "destination = '3'  # Destination node\n",
        "\n",
        "# Perform DFS traversal starting from the source to the destination\n",
        "dfs_path = graph.dfs(source, destination)\n",
        "\n",
        "# Perform BFS traversal starting from the source to the destination\n",
        "bfs_path = graph.bfs(source, destination)\n",
        "\n",
        "# Calculate the lengths of the DFS and BFS paths\n",
        "dfs_path_length = len(dfs_path) if dfs_path else float('inf')\n",
        "bfs_path_length = len(bfs_path) if bfs_path else float('inf')\n",
        "\n",
        "# Determine the shortest path and display it\n",
        "if dfs_path_length < bfs_path_length:\n",
        "    shortest_path = dfs_path\n",
        "    shortest_path_algorithm = \"DFS\"\n",
        "elif bfs_path_length < dfs_path_length:\n",
        "    shortest_path = bfs_path\n",
        "    shortest_path_algorithm = \"BFS\"\n",
        "else:\n",
        "    shortest_path = dfs_path  # Both paths are equally short\n",
        "    shortest_path_algorithm = \"Both DFS and BFS\"\n",
        "\n",
        "# Display the shortest path and the algorithm used\n",
        "if shortest_path:\n",
        "    print(f\"Shortest Path ({shortest_path_algorithm}): {' -> '.join(shortest_path)}\")\n",
        "else:\n",
        "    print(f\"No valid path exists from {source} to {destination}.\")\n"
      ],
      "metadata": {
        "colab": {
          "base_uri": "https://localhost:8080/"
        },
        "id": "MYc8yLHr-nFE",
        "outputId": "a85f9507-8ba5-475f-892e-c4900f617b27"
      },
      "execution_count": null,
      "outputs": [
        {
          "output_type": "stream",
          "name": "stdout",
          "text": [
            "Shortest Path (DFS): 0 -> 1 -> 2 -> 3\n"
          ]
        }
      ]
    },
    {
      "cell_type": "markdown",
      "source": [
        "##5. Instant Shop Searching and Information Retrieval:"
      ],
      "metadata": {
        "id": "fk6vdPIILHRO"
      }
    },
    {
      "cell_type": "code",
      "source": [
        "class ShopNavigationSystem:\n",
        "    def __init__(self):\n",
        "        # Initialize an empty hash table to store shop data by category\n",
        "        self.shop_data = {}\n",
        "\n",
        "    def add_shop(self, shop_number, shop_name, category, location, rating):\n",
        "        # Create a shop entry\n",
        "        shop_entry = {\n",
        "            \"Shop Number\": shop_number,  # Add the Shop Number field\n",
        "            \"Shop Name\": shop_name,\n",
        "            \"Category\": category,\n",
        "            \"Location\": location,\n",
        "            \"Rating\": rating\n",
        "        }\n",
        "\n",
        "        # Add the shop to the corresponding category list in the hash table\n",
        "        if category in self.shop_data:\n",
        "            self.shop_data[category].append(shop_entry)\n",
        "        else:\n",
        "            self.shop_data[category] = [shop_entry]\n",
        "\n",
        "    def search_by_category(self, category):\n",
        "        # Search for shops in a specific category\n",
        "        if category in self.shop_data:\n",
        "            return self.shop_data[category]\n",
        "        else:\n",
        "            return []\n",
        "\n",
        "    def display_shop_info(self, shop_number):\n",
        "        # Display detailed information for a specific shop\n",
        "        for category, shops in self.shop_data.items():\n",
        "            for shop in shops:\n",
        "                if shop_number == shop['Shop Number']:\n",
        "                    print(f\"Shop Number: {shop['Shop Number']}\")\n",
        "                    print(f\"Shop Name: {shop['Shop Name']}\")\n",
        "                    print(f\"Category: {shop['Category']}\")\n",
        "                    print(f\"Location: {shop['Location']}\")\n",
        "                    print(f\"Rating: {shop['Rating']}\")\n",
        "                    return\n",
        "\n",
        "    def display_all_categories(self):\n",
        "        # Display a list of all available shop categories\n",
        "        return list(self.shop_data.keys())\n",
        "\n",
        "# Example usage:\n",
        "def main():\n",
        "    navigation_system = ShopNavigationSystem()\n",
        "\n",
        "    # Add sample shops\n",
        "    navigation_system.add_shop(1, \"ABC Electronics\", \"Electronics\", \"Floor 1, Aisle 3\", 4)\n",
        "    navigation_system.add_shop(2, \"Fashion Paradise\", \"Clothing\", \"Floor 2, Aisle 1\", 5)\n",
        "\n",
        "    # Search for shops in a specific category\n",
        "    category = \"Electronics\"\n",
        "    print(f\"Shops in the {category} category:\")\n",
        "    shops = navigation_system.search_by_category(category)\n",
        "    for shop in shops:\n",
        "        print(f\"Shop Name: {shop['Shop Name']}\")\n",
        "\n",
        "    # Display detailed information for a specific shop\n",
        "    shop_number = 1\n",
        "    navigation_system.display_shop_info(shop_number)\n",
        "\n",
        "    # Display a list of all available shop categories\n",
        "    categories = navigation_system.display_all_categories()\n",
        "    print(\"Available Shop Categories:\")\n",
        "    for category in categories:\n",
        "        print(category)\n",
        "\n",
        "if __name__ == '__main__':\n",
        "    main()\n"
      ],
      "metadata": {
        "colab": {
          "base_uri": "https://localhost:8080/"
        },
        "id": "K-_xjPu2LD1X",
        "outputId": "a8db9f87-aca8-4448-9389-6563af8d1bf6"
      },
      "execution_count": null,
      "outputs": [
        {
          "output_type": "stream",
          "name": "stdout",
          "text": [
            "Shops in the Electronics category:\n",
            "Shop Name: ABC Electronics\n",
            "Shop Number: 1\n",
            "Shop Name: ABC Electronics\n",
            "Category: Electronics\n",
            "Location: Floor 1, Aisle 3\n",
            "Rating: 4\n",
            "Available Shop Categories:\n",
            "Electronics\n",
            "Clothing\n"
          ]
        }
      ]
    },
    {
      "cell_type": "code",
      "source": [
        "#The first step is to design a hash table\n",
        "class Shop:\n",
        "    def __init__(self, shop_number, shop_name, category, location, rating):\n",
        "        self.shop_number = shop_number\n",
        "        self.shop_name = shop_name\n",
        "        self.category = category\n",
        "        self.location = location\n",
        "        self.rating = rating\n",
        "\n",
        "class ShopNavigationSystem:\n",
        "    def __init__(self):\n",
        "        # Initialize an empty hash table to store shop data by category\n",
        "        self.shop_data = {}\n",
        "\n",
        "    def add_shop(self, shop_number, shop_name, category, location, rating):\n",
        "        # Create a shop object\n",
        "        shop = Shop(shop_number, shop_name, category, location, rating)\n",
        "\n",
        "        # Add the shop to the hash table under its category\n",
        "        if category in self.shop_data:\n",
        "            self.shop_data[category].append(shop)\n",
        "        else:\n",
        "            self.shop_data[category] = [shop]\n",
        "\n",
        "    def search_by_category(self, category):\n",
        "        # Search for shops in a specific category\n",
        "        if category in self.shop_data:\n",
        "            return self.shop_data[category]\n",
        "        else:\n",
        "            return []\n",
        "\n",
        "    def display_shop_info(self, shop_number):\n",
        "        # Display detailed information for a specific shop\n",
        "        for category, shops in self.shop_data.items():\n",
        "            for shop in shops:\n",
        "                if shop_number == shop.shop_number:\n",
        "                    print(f\"Shop Number: {shop.shop_number}\")\n",
        "                    print(f\"Shop Name: {shop.shop_name}\")\n",
        "                    print(f\"Category: {shop.category}\")\n",
        "                    print(f\"Location: {shop.location}\")\n",
        "                    print(f\"Rating: {shop.rating}\")\n",
        "                    return\n",
        "\n",
        "# Example usage:\n",
        "def main():\n",
        "    navigation_system = ShopNavigationSystem()\n",
        "\n",
        "    # Add sample shops\n",
        "    navigation_system.add_shop(1, \"ABC Electronics\", \"Electronics\", \"Floor 1, Aisle 3\", 4)\n",
        "    navigation_system.add_shop(2, \"Fashion Paradise\", \"Clothing\", \"Floor 2, Aisle 1\", 5)\n",
        "\n",
        "    # Search for shops in a specific category\n",
        "    category = \"Electronics\"\n",
        "    print(f\"Shops in the {category} category:\")\n",
        "    shops = navigation_system.search_by_category(category)\n",
        "    for shop in shops:\n",
        "        print(f\"Shop Name: {shop.shop_name}\")\n",
        "\n",
        "    # Display detailed information for a specific shop\n",
        "    shop_number = 1\n",
        "    navigation_system.display_shop_info(shop_number)\n",
        "\n",
        "if __name__ == '__main__':\n",
        "    main()\n"
      ],
      "metadata": {
        "colab": {
          "base_uri": "https://localhost:8080/"
        },
        "id": "WyEhqPqoLhCe",
        "outputId": "17044345-b4fe-46e0-92e8-c872aeaeefa8"
      },
      "execution_count": null,
      "outputs": [
        {
          "output_type": "stream",
          "name": "stdout",
          "text": [
            "Shops in the Electronics category:\n",
            "Shop Name: ABC Electronics\n",
            "Shop Number: 1\n",
            "Shop Name: ABC Electronics\n",
            "Category: Electronics\n",
            "Location: Floor 1, Aisle 3\n",
            "Rating: 4\n"
          ]
        }
      ]
    },
    {
      "cell_type": "code",
      "source": [
        "#Develop a hashing function to map user queries\n",
        "\n",
        "def hash_category(category, table_size):\n",
        "    # Clean and normalize the category string (remove leading/trailing spaces, convert to lowercase)\n",
        "    cleaned_category = category.strip().lower()\n",
        "\n",
        "    # Calculate the hash value using the built-in hash() function\n",
        "    hash_value = hash(cleaned_category)\n",
        "\n",
        "    # Ensure the hash value is non-negative and within the table size\n",
        "    index = hash_value % table_size\n",
        "\n",
        "    return index\n",
        "\n",
        "# Example usage:\n",
        "table_size = 10  # Adjust the table size as needed\n",
        "category = \"Electronics\"\n",
        "index = hash_category(category, table_size)\n",
        "print(f\"The index for category '{category}' is: {index}\")\n"
      ],
      "metadata": {
        "colab": {
          "base_uri": "https://localhost:8080/"
        },
        "id": "tdKuD3qlPjOV",
        "outputId": "ed718c1e-f46c-4bd2-dfc6-5f6df8bf3f67"
      },
      "execution_count": null,
      "outputs": [
        {
          "output_type": "stream",
          "name": "stdout",
          "text": [
            "The index for category 'Electronics' is: 7\n"
          ]
        }
      ]
    },
    {
      "cell_type": "code",
      "source": [
        "def custom_hash_category(category):\n",
        "    category = category.strip().lower()\n",
        "    category_mapping = {\n",
        "        \"electronics\": 4,\n",
        "        \"clothing\": 7,\n",
        "        \"furniture\": 2,\n",
        "        # Add more category mappings as needed\n",
        "    }\n",
        "    return category_mapping.get(category, None)\n",
        "\n",
        "# Example usage:\n",
        "category = \"Electronics\"\n",
        "index = custom_hash_category(category)\n",
        "if index is not None:\n",
        "    print(f\"The hashing function converts '{category}' into an index, say {index}\")\n",
        "else:\n",
        "    print(f\"Category '{category}' not found in the mapping.\")\n"
      ],
      "metadata": {
        "colab": {
          "base_uri": "https://localhost:8080/"
        },
        "id": "MdGWx1UjPV6O",
        "outputId": "3413760e-5cee-49c0-f674-778c8555107e"
      },
      "execution_count": null,
      "outputs": [
        {
          "output_type": "stream",
          "name": "stdout",
          "text": [
            "The hashing function converts 'Electronics' into an index, say 4\n"
          ]
        }
      ]
    },
    {
      "cell_type": "code",
      "source": [
        "#Ensure collision handling mechanisms to manage multiple key-value pairs\n",
        "\n",
        "class ShopNavigationSystem:\n",
        "    def __init__(self, table_size=100):\n",
        "        # Initialize an empty hash table as a list of lists (chaining)\n",
        "        self.table_size = table_size\n",
        "        self.hash_table = [[] for _ in range(table_size)]\n",
        "\n",
        "        # Define the category mapping\n",
        "        self.category_mapping = {\n",
        "            \"electronics\": 4,\n",
        "            \"clothing\": 7,\n",
        "            \"furniture\": 2,\n",
        "            # Add more category mappings as needed\n",
        "        }\n",
        "\n",
        "    def custom_hash_category(self, category):\n",
        "        category = category.strip().lower()\n",
        "        return self.category_mapping.get(category, None)\n",
        "\n",
        "\n",
        "    def add_shop(self, shop_number, shop_name, category, location, rating):\n",
        "        # Create a shop entry\n",
        "        shop_entry = {\n",
        "            \"Shop Number\": shop_number,\n",
        "            \"Shop Name\": shop_name,\n",
        "            \"Category\": category,\n",
        "            \"Location\": location,\n",
        "            \"Rating\": rating\n",
        "        }\n",
        "\n",
        "        # Hash the category to get the index\n",
        "        index = self.custom_hash_category(category)\n",
        "        if index is not None:\n",
        "            # Add the shop entry to the corresponding index (chaining)\n",
        "            self.hash_table[index].append(shop_entry)\n",
        "        else:\n",
        "            print(f\"Category '{category}' not found in the mapping.\")\n",
        "\n",
        "    def search_by_category(self, category):\n",
        "        # Hash the category to get the index\n",
        "        index = self.custom_hash_category(category)\n",
        "        if index is not None:\n",
        "            # Retrieve shops in the category from the corresponding index\n",
        "            return self.hash_table[index]\n",
        "        else:\n",
        "            print(f\"Category '{category}' not found in the mapping.\")\n",
        "            return []\n",
        "\n",
        "    def display_shop_info(self, shop_number):\n",
        "        # Search for the shop with the given shop number in the hash table\n",
        "        for chain in self.hash_table:\n",
        "            for shop in chain:\n",
        "                if shop_number == shop['Shop Number']:\n",
        "                    print(f\"Shop Number: {shop['Shop Number']}\")\n",
        "                    print(f\"Shop Name: {shop['Shop Name']}\")\n",
        "                    print(f\"Category: {shop['Category']}\")\n",
        "                    print(f\"Location: {shop['Location']}\")\n",
        "                    print(f\"Rating: {shop['Rating']}\")\n",
        "                    return\n",
        "\n",
        "    def display_all_categories(self):\n",
        "        # Display a list of all available shop categories\n",
        "        return list(self.custom_hash_category(category) for category in self.category_mapping)\n",
        "\n",
        "# Example usage:\n",
        "def main():\n",
        "    navigation_system = ShopNavigationSystem()\n",
        "\n",
        "    # Add sample shops\n",
        "    navigation_system.add_shop(1, \"ABC Electronics\", \"Electronics\", \"Floor 1, Aisle 3\", 4)\n",
        "    navigation_system.add_shop(2, \"Fashion Paradise\", \"Clothing\", \"Floor 2, Aisle 1\", 5)\n",
        "\n",
        "    # Search for shops in a specific category\n",
        "    category = \"Electronics\"\n",
        "    print(f\"Shops in the {category} category:\")\n",
        "    shops = navigation_system.search_by_category(category)\n",
        "    for shop in shops:\n",
        "        print(f\"Shop Name: {shop['Shop Name']}\")\n",
        "\n",
        "    # Display detailed information for a specific shop\n",
        "    shop_number = 1\n",
        "    navigation_system.display_shop_info(shop_number)\n",
        "\n",
        "    # Display a list of all available shop categories\n",
        "    categories = navigation_system.display_all_categories()\n",
        "    print(\"Available Shop Categories:\")\n",
        "    for category in categories:\n",
        "        print(category)\n",
        "\n",
        "if __name__ == '__main__':\n",
        "    main()\n",
        "\n",
        "\n",
        "\n"
      ],
      "metadata": {
        "colab": {
          "base_uri": "https://localhost:8080/"
        },
        "id": "vfFtuvNqPoAf",
        "outputId": "e9a2fe2e-796c-4905-f373-6fd21bbf840f"
      },
      "execution_count": null,
      "outputs": [
        {
          "output_type": "stream",
          "name": "stdout",
          "text": [
            "Shops in the Electronics category:\n",
            "Shop Name: ABC Electronics\n",
            "Shop Number: 1\n",
            "Shop Name: ABC Electronics\n",
            "Category: Electronics\n",
            "Location: Floor 1, Aisle 3\n",
            "Rating: 4\n",
            "Available Shop Categories:\n",
            "4\n",
            "7\n",
            "2\n"
          ]
        }
      ]
    },
    {
      "cell_type": "code",
      "source": [
        "#Implement error handling for cases\n",
        "class ShopNavigationSystem:\n",
        "    def __init__(self):\n",
        "        # Initialize an empty hash table to store shop data by category\n",
        "        self.shop_data = {}\n",
        "\n",
        "    def add_shop(self, shop_number, shop_name, category, location, rating):\n",
        "        # Create a shop entry\n",
        "        shop_entry = {\n",
        "            \"Shop Number\": shop_number,\n",
        "            \"Shop Name\": shop_name,\n",
        "            \"Category\": category,\n",
        "            \"Location\": location,\n",
        "            \"Rating\": rating\n",
        "        }\n",
        "\n",
        "        # Add the shop to the corresponding category list in the hash table\n",
        "        if category in self.shop_data:\n",
        "            self.shop_data[category].append(shop_entry)\n",
        "        else:\n",
        "            self.shop_data[category] = [shop_entry]\n",
        "\n",
        "    def search_by_category(self, category):\n",
        "        # Search for shops in a specific category\n",
        "        if category in self.shop_data:\n",
        "            return self.shop_data[category]\n",
        "        else:\n",
        "            return []\n",
        "\n",
        "    def display_shop_info(self, shop_number):\n",
        "        # Display detailed information for a specific shop\n",
        "        for category, shops in self.shop_data.items():\n",
        "            for shop in shops:\n",
        "                if shop_number == shop['Shop Number']:\n",
        "                    print(f\"Shop Number: {shop['Shop Number']}\")\n",
        "                    print(f\"Shop Name: {shop['Shop Name']}\")\n",
        "                    print(f\"Category: {shop['Category']}\")\n",
        "                    print(f\"Location: {shop['Location']}\")\n",
        "                    print(f\"Rating: {shop['Rating']}\")\n",
        "                    return\n",
        "\n",
        "    def display_all_categories(self):\n",
        "        # Display a list of all available shop categories\n",
        "        return list(self.shop_data.keys())\n",
        "\n",
        "# Example usage:\n",
        "def main():\n",
        "    navigation_system = ShopNavigationSystem()\n",
        "\n",
        "    # Add sample shops\n",
        "    navigation_system.add_shop(1, \"ABC Electronics\", \"Electronics\", \"Floor 1, Aisle 3\", 4)\n",
        "    navigation_system.add_shop(2, \"Fashion Paradise\", \"Clothing\", \"Floor 2, Aisle 1\", 5)\n",
        "\n",
        "    # Search for shops in a specific category\n",
        "    category = \"Non-Existent Category\"\n",
        "    result = navigation_system.search_by_category(category)\n",
        "\n",
        "    if not result:\n",
        "        print(f\"No matching shops found in the '{category}' category.\")\n",
        "    else:\n",
        "        for shop in result:\n",
        "            print(f\"Shop Name: {shop['Shop Name']}\")\n",
        "\n",
        "if __name__ == '__main__':\n",
        "    main()\n"
      ],
      "metadata": {
        "colab": {
          "base_uri": "https://localhost:8080/"
        },
        "id": "o-vuRgm-SUR1",
        "outputId": "7c4b58af-e678-40de-d234-757776a795f2"
      },
      "execution_count": null,
      "outputs": [
        {
          "output_type": "stream",
          "name": "stdout",
          "text": [
            "No matching shops found in the 'Non-Existent Category' category.\n"
          ]
        }
      ]
    },
    {
      "cell_type": "code",
      "source": [
        "def add_shop(self, shop_number, shop_name, category, location, rating):\n",
        "    # Create a shop entry\n",
        "    shop_entry = {\n",
        "        \"Shop Number\": shop_number,\n",
        "        \"Shop Name\": shop_name,\n",
        "        \"Category\": category,\n",
        "        \"Location\": location,\n",
        "        \"Rating\": rating\n",
        "    }\n",
        "\n",
        "    # Add the shop to the corresponding category list in the hash table\n",
        "    if category in self.shop_data:\n",
        "        self.shop_data[category].append(shop_entry)\n",
        "    else:\n",
        "        self.shop_data[category] = [shop_entry]\n"
      ],
      "metadata": {
        "id": "3T68Q2cdW_O6"
      },
      "execution_count": null,
      "outputs": []
    },
    {
      "cell_type": "code",
      "source": [
        "class ShopNavigationSystem:\n",
        "    def __init__(self):\n",
        "        # Initialize an empty hash table to store shop data by category\n",
        "        self.shop_data = {}\n",
        "\n",
        "    def custom_hash_category(self, category):\n",
        "        # Hashing function to map category to an index\n",
        "        hash_value = 0\n",
        "        for char in category:\n",
        "            hash_value += ord(char)\n",
        "        return hash_value % 10  # Adjust the modulus as needed\n",
        "\n",
        "    def add_shop(self, shop_number, shop_name, category, location, rating):\n",
        "        # Create a shop entry\n",
        "        shop_entry = {\n",
        "            \"Shop Number\": shop_number,\n",
        "            \"Shop Name\": shop_name,\n",
        "            \"Category\": category,\n",
        "            \"Location\": location,\n",
        "            \"Rating\": rating\n",
        "        }\n",
        "\n",
        "        # Calculate the hash index for the category\n",
        "        hash_index = self.custom_hash_category(category)\n",
        "\n",
        "        # Handle collisions by using a list of shops at the same index\n",
        "        if hash_index in self.shop_data:\n",
        "            self.shop_data[hash_index].append(shop_entry)\n",
        "        else:\n",
        "            self.shop_data[hash_index] = [shop_entry]\n",
        "\n",
        "    def search_by_category(self, category):\n",
        "        # Search for shops in a specific category\n",
        "        hash_index = self.custom_hash_category(category)\n",
        "\n",
        "        if hash_index in self.shop_data:\n",
        "            return self.shop_data[hash_index]\n",
        "        else:\n",
        "            return None  # Return None for non-existent categories\n",
        "\n",
        "    def display_shop_info(self, shop_number):\n",
        "        # Display detailed information for a specific shop\n",
        "        for index, shop_list in self.shop_data.items():\n",
        "            for shop in shop_list:\n",
        "                if shop_number == shop['Shop Number']:\n",
        "                    print(f\"Shop Number: {shop_number}\")\n",
        "                    print(f\"Shop Name: {shop['Shop Name']}\")\n",
        "                    print(f\"Category: {shop['Category']}\")\n",
        "                    print(f\"Location: {shop['Location']}\")\n",
        "                    print(f\"Rating: {shop['Rating']}\")\n",
        "                    return\n",
        "\n",
        "    def display_all_categories(self):\n",
        "        # Display a list of all available shop categories\n",
        "        return list(self.shop_data.keys())\n",
        "\n",
        "# Example usage:\n",
        "def main():\n",
        "    navigation_system = ShopNavigationSystem()\n",
        "\n",
        "    # Add sample shops\n",
        "    navigation_system.add_shop(1, \"ABC Electronics\", \"Electronics\", \"Floor 1, Aisle 3\", 4)\n",
        "    navigation_system.add_shop(2, \"Fashion Paradise\", \"Clothing\", \"Floor 2, Aisle 1\", 5)\n",
        "\n",
        "    # Search for shops in the \"Electronics\" category\n",
        "    category = \"Electronics\"\n",
        "    shops = navigation_system.search_by_category(category)\n",
        "\n",
        "    if shops:\n",
        "        print(f\"Shops in the {category} category:\")\n",
        "        for shop in shops:\n",
        "            print(f\"Shop Name: {shop['Shop Name']}\")\n",
        "    else:\n",
        "        print(f\"No shops found in the {category} category.\")\n",
        "\n",
        "    # Display detailed information for a specific shop\n",
        "    shop_number = 1\n",
        "    navigation_system.display_shop_info(shop_number)\n",
        "\n",
        "    # Display a list of all available shop categories\n",
        "    categories = navigation_system.display_all_categories()\n",
        "    print(\"Available Shop Categories:\")\n",
        "    for category in categories:\n",
        "        print(category)\n",
        "\n",
        "if __name__ == '__main__':\n",
        "    main()\n"
      ],
      "metadata": {
        "colab": {
          "base_uri": "https://localhost:8080/"
        },
        "id": "2fay21ptXz9V",
        "outputId": "3ab02bce-2580-471a-8624-63733f9134f7"
      },
      "execution_count": null,
      "outputs": [
        {
          "output_type": "stream",
          "name": "stdout",
          "text": [
            "Shops in the Electronics category:\n",
            "Shop Name: ABC Electronics\n",
            "Shop Number: 1\n",
            "Shop Name: ABC Electronics\n",
            "Category: Electronics\n",
            "Location: Floor 1, Aisle 3\n",
            "Rating: 4\n",
            "Available Shop Categories:\n",
            "7\n",
            "4\n"
          ]
        }
      ]
    },
    {
      "cell_type": "code",
      "source": [
        "#Ensure that the hash table is updated in real-time\n",
        "\n",
        "import heapq  # Import the heapq library for max-heap operations\n",
        "\n",
        "class ShopNavigationSystem:\n",
        "    def __init__(self):\n",
        "        # Initialize an empty hash table to store shop data by category\n",
        "        self.shop_data = {}\n",
        "        # Initialize an empty max-heap for ratings of each category\n",
        "        self.rating_heaps = {}\n",
        "\n",
        "    def custom_hash_category(self, category):\n",
        "        # Hashing function to map category to an index\n",
        "        hash_value = 0\n",
        "        for char in category:\n",
        "            hash_value += ord(char)\n",
        "        return hash_value % 10  # Adjust the modulus as needed\n",
        "\n",
        "    def add_shop(self, shop_number, shop_name, category, location, rating):\n",
        "        # Create a shop entry\n",
        "        shop_entry = {\n",
        "            \"Shop Number\": shop_number,\n",
        "            \"Shop Name\": shop_name,\n",
        "            \"Category\": category,\n",
        "            \"Location\": location,\n",
        "            \"Rating\": rating\n",
        "        }\n",
        "\n",
        "        # Calculate the hash index for the category\n",
        "        hash_index = self.custom_hash_category(category)\n",
        "\n",
        "        # Handle collisions by using a list of shops at the same index\n",
        "        if hash_index in self.shop_data:\n",
        "            self.shop_data[hash_index].append(shop_entry)\n",
        "        else:\n",
        "            self.shop_data[hash_index] = [shop_entry]\n",
        "\n",
        "        # Update the max-heap for ratings\n",
        "        if category in self.rating_heaps:\n",
        "            heapq.heappush(self.rating_heaps[category], -rating)  # Use negative ratings for max-heap\n",
        "        else:\n",
        "            self.rating_heaps[category] = [-rating]\n",
        "\n",
        "    def search_by_category(self, category):\n",
        "        # Search for shops in a specific category\n",
        "        hash_index = self.custom_hash_category(category)\n",
        "\n",
        "        if hash_index in self.shop_data:\n",
        "            return self.shop_data[hash_index]\n",
        "        else:\n",
        "            return None  # Return None for non-existent categories\n",
        "\n",
        "    def extract_sorted_shops_by_rating(self, category):\n",
        "        # Extract and display shops in descending order of ratings from the max-heap\n",
        "        if category in self.rating_heaps:\n",
        "            sorted_ratings = self.rating_heaps[category]\n",
        "            sorted_shops = []\n",
        "            while sorted_ratings:\n",
        "                rating = -heapq.heappop(sorted_ratings)  # Convert back to positive rating\n",
        "                for shop in self.shop_data[self.custom_hash_category(category)]:\n",
        "                    if shop['Rating'] == rating and shop['Category'] == category:\n",
        "                        sorted_shops.append(shop)\n",
        "            return sorted_shops\n",
        "        else:\n",
        "            return None\n",
        "\n",
        "    def display_shop_info(self, shop_number):\n",
        "        # Display detailed information for a specific shop\n",
        "        for index, shop_list in self.shop_data.items():\n",
        "            for shop in shop_list:\n",
        "                if shop_number == shop['Shop Number']:\n",
        "                    print(f\"Shop Number: {shop_number}\")\n",
        "                    print(f\"Shop Name: {shop['Shop Name']}\")\n",
        "                    print(f\"Category: {shop['Category']}\")\n",
        "                    print(f\"Location: {shop['Location']}\")\n",
        "                    print(f\"Rating: {shop['Rating']}\")\n",
        "                    return\n",
        "\n",
        "    def display_all_categories(self):\n",
        "        # Display a list of all available shop categories\n",
        "        return list(self.shop_data.keys())\n",
        "\n",
        "# Example usage:\n",
        "def main():\n",
        "    navigation_system = ShopNavigationSystem()\n",
        "\n",
        "    # Add sample shops\n",
        "    navigation_system.add_shop(1, \"ABC Electronics\", \"Electronics\", \"Floor 1, Aisle 3\", 4)\n",
        "    navigation_system.add_shop(2, \"Fashion Paradise\", \"Clothing\", \"Floor 2, Aisle 1\", 5)\n",
        "    navigation_system.add_shop(3, \"Gadget World\", \"Electronics\", \"Floor 1, Aisle 2\", 3)\n",
        "\n",
        "    # Search for shops in the \"Electronics\" category\n",
        "    category = \"Electronics\"\n",
        "    shops = navigation_system.search_by_category(category)\n",
        "\n",
        "    if shops:\n",
        "        print(f\"Shops in the {category} category:\")\n",
        "        for shop in shops:\n",
        "            print(f\"Shop Name: {shop['Shop Name']}\")\n",
        "\n",
        "        # Display shops in descending order of ratings\n",
        "        sorted_shops = navigation_system.extract_sorted_shops_by_rating(category)\n",
        "        if sorted_shops:\n",
        "            print(\"\\nShops in descending order of ratings:\")\n",
        "            for shop in sorted_shops:\n",
        "                print(f\"Shop Name: {shop['Shop Name']}, Rating: {shop['Rating']}\")\n",
        "        else:\n",
        "            print(\"No shops found in the category.\")\n",
        "    else:\n",
        "        print(f\"No shops found in the {category} category.\")\n",
        "\n",
        "    # Display detailed information for a specific shop\n",
        "    shop_number = 1\n",
        "    navigation_system.display_shop_info(shop_number)\n",
        "\n",
        "    # Display a list of all available shop categories\n",
        "    categories = navigation_system.display_all_categories()\n",
        "    print(\"\\nAvailable Shop Categories:\")\n",
        "    for category in categories:\n",
        "        print(category)\n",
        "\n",
        "if __name__ == '__main__':\n",
        "    main()\n"
      ],
      "metadata": {
        "colab": {
          "base_uri": "https://localhost:8080/"
        },
        "id": "dlM3z_YzX5_f",
        "outputId": "929b7be1-b65d-490c-e565-7ed7853bf2c1"
      },
      "execution_count": null,
      "outputs": [
        {
          "output_type": "stream",
          "name": "stdout",
          "text": [
            "Shops in the Electronics category:\n",
            "Shop Name: ABC Electronics\n",
            "Shop Name: Gadget World\n",
            "\n",
            "Shops in descending order of ratings:\n",
            "Shop Name: ABC Electronics, Rating: 4\n",
            "Shop Name: Gadget World, Rating: 3\n",
            "Shop Number: 1\n",
            "Shop Name: ABC Electronics\n",
            "Category: Electronics\n",
            "Location: Floor 1, Aisle 3\n",
            "Rating: 4\n",
            "\n",
            "Available Shop Categories:\n",
            "7\n",
            "4\n"
          ]
        }
      ]
    },
    {
      "cell_type": "code",
      "source": [
        "class MaxHeap:\n",
        "    def __init__(self):\n",
        "        self.heap = []\n",
        "\n",
        "    def insert(self, element):\n",
        "        self.heap.append(element)\n",
        "        self._heapify_up(len(self.heap) - 1)\n",
        "\n",
        "    def extract_max(self):\n",
        "        if not self.heap:\n",
        "            return None\n",
        "\n",
        "        if len(self.heap) == 1:\n",
        "            return self.heap.pop()\n",
        "\n",
        "        max_element = self.heap[0]\n",
        "        self.heap[0] = self.heap.pop()\n",
        "        self._heapify_down(0)\n",
        "        return max_element\n",
        "\n",
        "    def _heapify_up(self, index):\n",
        "        parent_index = (index - 1) // 2\n",
        "        if parent_index >= 0 and self.heap[index][\"Rating\"] > self.heap[parent_index][\"Rating\"]:\n",
        "            self.heap[index], self.heap[parent_index] = self.heap[parent_index], self.heap[index]\n",
        "            self._heapify_up(parent_index)\n",
        "\n",
        "    def _heapify_down(self, index):\n",
        "        left_child_index = 2 * index + 1\n",
        "        right_child_index = 2 * index + 2\n",
        "        largest = index\n",
        "\n",
        "        if (\n",
        "            left_child_index < len(self.heap)\n",
        "            and self.heap[left_child_index][\"Rating\"] > self.heap[largest][\"Rating\"]\n",
        "        ):\n",
        "            largest = left_child_index\n",
        "\n",
        "        if (\n",
        "            right_child_index < len(self.heap)\n",
        "            and self.heap[right_child_index][\"Rating\"] > self.heap[largest][\"Rating\"]\n",
        "        ):\n",
        "            largest = right_child_index\n",
        "\n",
        "        if largest != index:\n",
        "            self.heap[index], self.heap[largest] = self.heap[largest], self.heap[index]\n",
        "            self._heapify_down(largest)\n",
        "\n",
        "    def update(self, element):\n",
        "        for i in range(len(self.heap)):\n",
        "            if self.heap[i][\"Shop Number\"] == element[\"Shop Number\"]:\n",
        "                self.heap[i] = element\n",
        "                if i > 0 and element[\"Rating\"] > self.heap[(i - 1) // 2][\"Rating\"]:\n",
        "                    self._heapify_up(i)\n",
        "                else:\n",
        "                    self._heapify_down(i)\n",
        "                break\n",
        "\n",
        "    def remove(self, shop_number):\n",
        "        for i in range(len(self.heap)):\n",
        "            if self.heap[i][\"Shop Number\"] == shop_number:\n",
        "                self.heap[i], self.heap[-1] = self.heap[-1], self.heap[i]\n",
        "                removed_element = self.heap.pop()\n",
        "                if i < len(self.heap):\n",
        "                    if i > 0 and self.heap[i][\"Rating\"] > self.heap[(i - 1) // 2][\"Rating\"]:\n",
        "                        self._heapify_up(i)\n",
        "                    else:\n",
        "                        self._heapify_down(i)\n",
        "                return removed_element\n",
        "\n",
        "    def get_top_elements(self, num_elements):\n",
        "        return sorted(self.heap, key=lambda x: x[\"Rating\"], reverse=True)[:num_elements]\n"
      ],
      "metadata": {
        "id": "IpUjfj6gDgja"
      },
      "execution_count": 5,
      "outputs": []
    },
    {
      "cell_type": "code",
      "source": [
        "# Create a MaxHeap instance\n",
        "max_heap = MaxHeap()\n",
        "\n",
        "# Insert elements into the max-heap\n",
        "max_heap.insert({\"Shop Number\": 1, \"Shop Name\": \"ABC Electronics\", \"Rating\": 5})\n",
        "max_heap.insert({\"Shop Number\": 2, \"Shop Name\": \"Fashion Paradise\", \"Rating\": 4})\n",
        "max_heap.insert({\"Shop Number\": 3, \"Shop Name\": \"Book Haven\", \"Rating\": 4})\n",
        "max_heap.insert({\"Shop Number\": 4, \"Shop Name\": \"Shop D\", \"Rating\": 3})\n",
        "max_heap.insert({\"Shop Number\": 5, \"Shop Name\": \"Shop E\", \"Rating\": 2})\n",
        "\n",
        "# Display the max-heap elements\n",
        "print(\"Max-Heap:\")\n",
        "while True:\n",
        "    max_element = max_heap.extract_max()\n",
        "    if max_element is None:\n",
        "        break\n",
        "    print(f\"Shop Number: {max_element['Shop Number']}, Shop Name: {max_element['Shop Name']}, Rating: {max_element['Rating']}\")"
      ],
      "metadata": {
        "colab": {
          "base_uri": "https://localhost:8080/"
        },
        "id": "EY4sP3UwEs9m",
        "outputId": "80bb7e8d-856f-4921-cf68-64891bc7e884"
      },
      "execution_count": 6,
      "outputs": [
        {
          "output_type": "stream",
          "name": "stdout",
          "text": [
            "Max-Heap:\n",
            "Shop Number: 1, Shop Name: ABC Electronics, Rating: 5\n",
            "Shop Number: 2, Shop Name: Fashion Paradise, Rating: 4\n",
            "Shop Number: 3, Shop Name: Book Haven, Rating: 4\n",
            "Shop Number: 4, Shop Name: Shop D, Rating: 3\n",
            "Shop Number: 5, Shop Name: Shop E, Rating: 2\n"
          ]
        }
      ]
    }
  ]
}